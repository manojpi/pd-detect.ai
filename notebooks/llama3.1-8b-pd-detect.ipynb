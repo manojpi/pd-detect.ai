{
 "cells": [
  {
   "cell_type": "code",
   "execution_count": 1,
   "metadata": {},
   "outputs": [
    {
     "name": "stderr",
     "output_type": "stream",
     "text": [
      "/home/mgurung/workspace/ai-env/lib/python3.10/site-packages/tqdm/auto.py:21: TqdmWarning: IProgress not found. Please update jupyter and ipywidgets. See https://ipywidgets.readthedocs.io/en/stable/user_install.html\n",
      "  from .autonotebook import tqdm as notebook_tqdm\n"
     ]
    },
    {
     "data": {
      "text/plain": [
       "True"
      ]
     },
     "execution_count": 1,
     "metadata": {},
     "output_type": "execute_result"
    }
   ],
   "source": [
    "from transformers import AutoModelForCausalLM, AutoTokenizer, BitsAndBytesConfig, StoppingCriteria, StoppingCriteriaList, TrainingArguments, Trainer, DataCollatorForLanguageModeling\n",
    "from peft import get_peft_model, LoraConfig, prepare_model_for_kbit_training\n",
    "from dotenv import load_dotenv\n",
    "from datasets import load_dataset\n",
    "import torch\n",
    "\n",
    "load_dotenv()"
   ]
  },
  {
   "cell_type": "code",
   "execution_count": 2,
   "metadata": {},
   "outputs": [
    {
     "name": "stderr",
     "output_type": "stream",
     "text": [
      "Loading checkpoint shards: 100%|██████████| 4/4 [00:05<00:00,  1.37s/it]\n"
     ]
    }
   ],
   "source": [
    "model_name = \"meta-llama/Meta-Llama-3-8B-Instruct\"\n",
    "\n",
    "quantization_config = BitsAndBytesConfig(\n",
    "    load_in_8bit=True\n",
    ")\n",
    "\n",
    "model = AutoModelForCausalLM.from_pretrained(\n",
    "    model_name,\n",
    "    device_map=\"cuda:0\",\n",
    "    quantization_config=quantization_config\n",
    ")"
   ]
  },
  {
   "cell_type": "code",
   "execution_count": 3,
   "metadata": {},
   "outputs": [],
   "source": [
    "tokenizer = AutoTokenizer.from_pretrained(model_name, use_fast=True)"
   ]
  },
  {
   "cell_type": "code",
   "execution_count": 4,
   "metadata": {},
   "outputs": [
    {
     "data": {
      "text/plain": [
       "{'bos_token': '<|begin_of_text|>',\n",
       " 'eos_token': '<|eot_id|>',\n",
       " 'additional_special_tokens': ['<|begin_of_text|>',\n",
       "  '<|start_header_id|>',\n",
       "  '<|end_header_id|>',\n",
       "  '<|eot_id|>']}"
      ]
     },
     "execution_count": 4,
     "metadata": {},
     "output_type": "execute_result"
    }
   ],
   "source": [
    "llama_special_tokens = {\n",
    "    \"additional_special_tokens\": [\"<|begin_of_text|>\", \"<|start_header_id|>\" , \"<|end_header_id|>\", \"<|eot_id|>\", ]\n",
    "}\n",
    "\n",
    "tokenizer.add_special_tokens(llama_special_tokens)\n",
    "tokenizer.special_tokens_map"
   ]
  },
  {
   "cell_type": "code",
   "execution_count": 5,
   "metadata": {},
   "outputs": [],
   "source": [
    "# class StopOnTokens(StoppingCriteria):\n",
    "#     def __init__(self, stop_token_ids):\n",
    "#         self.stop_token_ids = stop_token_ids\n",
    "    \n",
    "#     def __call__(self, input_ids, scores):\n",
    "#         for stop_ids in self.stop_token_ids:\n",
    "#             if torch.equal(input_ids[0, -len(stop_ids):], torch.tensor(stop_ids)):\n",
    "#                 return True\n",
    "#         return False\n",
    "\n",
    "# stop_sequences = []\n",
    "# stop_token_ids = [tokenizer(stop_sequence, add_special_tokens=False, return_tensors=\"pt\")[\"input_ids\"].to(device) for stop_sequence in stop_sequences ] # add_special_tokens to False so as not to have any such added and for accurate matching\n",
    "# stopping_criteria = StoppingCriteriaList([StopOnTokens(stop_token_ids)])"
   ]
  },
  {
   "cell_type": "code",
   "execution_count": 6,
   "metadata": {},
   "outputs": [
    {
     "name": "stderr",
     "output_type": "stream",
     "text": [
      "The attention mask and the pad token id were not set. As a consequence, you may observe unexpected behavior. Please pass your input's `attention_mask` to obtain reliable results.\n",
      "Setting `pad_token_id` to `eos_token_id`:None for open-end generation.\n",
      "The attention mask is not set and cannot be inferred from input because pad token is same as eos token. As a consequence, you may observe unexpected behavior. Please pass your input's `attention_mask` to obtain reliable results.\n"
     ]
    }
   ],
   "source": [
    "model.eval()\n",
    "\n",
    "prompt_template = lambda question: f\"\"\"<|begin_of_text|><|start_header_id|>system<|end_header_id|>You are a medical expert specializing in Parkinson's disease. Please provide detailed information and answer questions solely related to Parkinson's disease. If a question pertains to a different topic, kindly respond with, 'I'm sorry, but I can only provide information about Parkinson's disease.Provide a brief and direct answer to the following question without restating it the question.<|eot_id|><|start_header_id|>user<|end_header_id|>{question}<|eot_id|><|start_header_id|>assistant<|end_header_id|>\"\"\"\n",
    "\n",
    "prompt = prompt_template(\"What is parkinson disease?\")\n",
    "\n",
    "inputs = tokenizer(prompt, return_tensors=\"pt\")\n",
    "output = model.generate(input_ids=inputs[\"input_ids\"].to(\"cuda:0\"), max_new_tokens=200)"
   ]
  },
  {
   "cell_type": "code",
   "execution_count": 7,
   "metadata": {},
   "outputs": [
    {
     "data": {
      "text/plain": [
       "\"<|begin_of_text|><|begin_of_text|><|start_header_id|>system<|end_header_id|>You are a medical expert specializing in Parkinson's disease. Please provide detailed information and answer questions solely related to Parkinson's disease. If a question pertains to a different topic, kindly respond with, 'I'm sorry, but I can only provide information about Parkinson's disease.Provide a brief and direct answer to the following question without restating it the question.<|eot_id|><|start_header_id|>user<|end_header_id|>What is parkinson disease?<|eot_id|><|start_header_id|>assistant<|end_header_id|>\\n\\nParkinson's disease is a progressive neurological disorder characterized by the degeneration of dopamine-producing neurons in a specific part of the brain, leading to a range of motor symptoms, including tremors, rigidity, bradykinesia (slow movement), and postural instability. It is a chronic and incurable condition that affects approximately 1% of people over the age of 60 worldwide.<|eot_id|>\""
      ]
     },
     "execution_count": 7,
     "metadata": {},
     "output_type": "execute_result"
    }
   ],
   "source": [
    "tokenizer.batch_decode(output)[0]"
   ]
  },
  {
   "cell_type": "code",
   "execution_count": 8,
   "metadata": {},
   "outputs": [
    {
     "data": {
      "text/plain": [
       "DatasetDict({\n",
       "    train: Dataset({\n",
       "        features: ['example'],\n",
       "        num_rows: 40\n",
       "    })\n",
       "    test: Dataset({\n",
       "        features: ['example'],\n",
       "        num_rows: 20\n",
       "    })\n",
       "})"
      ]
     },
     "execution_count": 8,
     "metadata": {},
     "output_type": "execute_result"
    }
   ],
   "source": [
    "dataset = load_dataset(\"json\", data_files={\"train\": \"data/parkinson_disease_qa_train_data.json\", \"test\": \"data/parkinson_disease_qa_test_data.json\"})\n",
    "dataset"
   ]
  },
  {
   "cell_type": "code",
   "execution_count": 9,
   "metadata": {},
   "outputs": [
    {
     "data": {
      "text/plain": [
       "\"<|begin_of_text|><|start_header_id|>system<|end_header_id|>You are a medical expert specializing in Parkinson's disease. Please provide detailed information and answer questions solely related to Parkinson's disease. If a question pertains to a different topic, kindly respond with, 'I'm sorry, but I can only provide information about Parkinson's disease.Provide a brief and direct answer to the following question without restating it the question.<|eot_id|><|start_header_id|>user<|end_header_id|>What are the early signs of Parkinson's disease?<|eot_id|><|start_header_id|>assistant<|end_header_id|>\\n\\nEarly signs of Parkinson's may include mild tremors, rigidity, and subtle changes in posture or gait. Specific indicators such as resting tremor, softer voice, or smaller handwriting are common.\""
      ]
     },
     "execution_count": 9,
     "metadata": {},
     "output_type": "execute_result"
    }
   ],
   "source": [
    "dataset[\"train\"][\"example\"][0]"
   ]
  },
  {
   "cell_type": "code",
   "execution_count": 10,
   "metadata": {},
   "outputs": [],
   "source": [
    "model.train()\n",
    "\n",
    "model.gradient_checkpointing_enable()\n",
    "model = prepare_model_for_kbit_training(model)"
   ]
  },
  {
   "cell_type": "code",
   "execution_count": 11,
   "metadata": {},
   "outputs": [
    {
     "name": "stdout",
     "output_type": "stream",
     "text": [
      "trainable params: 2,097,152 || all params: 8,032,358,400 || trainable%: 0.0261\n"
     ]
    }
   ],
   "source": [
    "# LoRA Config\n",
    "lora_config = LoraConfig(\n",
    "    r=8,\n",
    "    lora_alpha=32,\n",
    "    target_modules=[\"q_proj\"],\n",
    "    lora_dropout=0.05,\n",
    "    bias=\"none\",\n",
    "    task_type=\"CAUSAL_LM\"\n",
    ")\n",
    "\n",
    "model = get_peft_model(model, lora_config)\n",
    "model.print_trainable_parameters()"
   ]
  },
  {
   "cell_type": "code",
   "execution_count": 12,
   "metadata": {},
   "outputs": [],
   "source": [
    "tokenizer.pad_token = tokenizer.eos_token\n",
    "data_collator = DataCollatorForLanguageModeling(tokenizer, mlm=False)"
   ]
  },
  {
   "cell_type": "code",
   "execution_count": 13,
   "metadata": {},
   "outputs": [
    {
     "data": {
      "text/plain": [
       "DatasetDict({\n",
       "    train: Dataset({\n",
       "        features: ['example', 'input_ids', 'attention_mask'],\n",
       "        num_rows: 40\n",
       "    })\n",
       "    test: Dataset({\n",
       "        features: ['example', 'input_ids', 'attention_mask'],\n",
       "        num_rows: 20\n",
       "    })\n",
       "})"
      ]
     },
     "execution_count": 13,
     "metadata": {},
     "output_type": "execute_result"
    }
   ],
   "source": [
    "def tokenize_function(single_example):\n",
    "\n",
    "    text = single_example[\"example\"]\n",
    "    tokenizer.truncation_side = \"left\"\n",
    "    output = tokenizer(\n",
    "        text,\n",
    "        return_tensors=\"np\",\n",
    "        max_length=512,\n",
    "        truncation=True,\n",
    "        padding=True\n",
    "    )\n",
    "\n",
    "    return output\n",
    "\n",
    "tokenized_dataset = dataset.map(tokenize_function, batched=True)\n",
    "tokenized_dataset"
   ]
  },
  {
   "cell_type": "code",
   "execution_count": 14,
   "metadata": {},
   "outputs": [
    {
     "data": {
      "text/plain": [
       "[\"<|begin_of_text|><|start_header_id|>system<|end_header_id|>You are a medical expert specializing in Parkinson's disease. Please provide detailed information and answer questions solely related to Parkinson's disease. If a question pertains to a different topic, kindly respond with, 'I'm sorry, but I can only provide information about Parkinson's disease.Provide a brief and direct answer to the following question without restating it the question.<|eot_id|><|start_header_id|>user<|end_header_id|>What are the early signs of Parkinson's disease?<|eot_id|><|start_header_id|>assistant<|end_header_id|>\\n\\nEarly signs of Parkinson's may include mild tremors, rigidity, and subtle changes in posture or gait. Specific indicators such as resting tremor, softer voice, or smaller handwriting are common.\",\n",
       " \"<|begin_of_text|><|start_header_id|>system<|end_header_id|>You are a medical expert specializing in Parkinson's disease. Please provide detailed information and answer questions solely related to Parkinson's disease. If a question pertains to a different topic, kindly respond with, 'I'm sorry, but I can only provide information about Parkinson's disease.Provide a brief and direct answer to the following question without restating it the question.<|eot_id|><|start_header_id|>user<|end_header_id|>How is Parkinson's disease diagnosed?<|eot_id|><|start_header_id|>assistant<|end_header_id|>\\n\\nParkinson's diagnosis involves a combination of neurological exams and symptom evaluation, with tests like dopamine transporter scans aiding in more challenging cases.\",\n",
       " \"<|begin_of_text|><|start_header_id|>system<|end_header_id|>You are a medical expert specializing in Parkinson's disease. Please provide detailed information and answer questions solely related to Parkinson's disease. If a question pertains to a different topic, kindly respond with, 'I'm sorry, but I can only provide information about Parkinson's disease.Provide a brief and direct answer to the following question without restating it the question.<|eot_id|><|start_header_id|>user<|end_header_id|>What role does dopamine play in Parkinson's disease?<|eot_id|><|start_header_id|>assistant<|end_header_id|>\\n\\nDopamine is critical in Parkinson's because the disease leads to the loss of dopamine-producing neurons, impacting smooth muscle control and causing tremors and stiffness.\",\n",
       " \"<|begin_of_text|><|start_header_id|>system<|end_header_id|>You are a medical expert specializing in Parkinson's disease. Please provide detailed information and answer questions solely related to Parkinson's disease. If a question pertains to a different topic, kindly respond with, 'I'm sorry, but I can only provide information about Parkinson's disease.Provide a brief and direct answer to the following question without restating it the question.<|eot_id|><|start_header_id|>user<|end_header_id|>Are there any genetic factors that contribute to Parkinson's disease?<|eot_id|><|start_header_id|>assistant<|end_header_id|>\\n\\nGenetic factors include mutations in LRRK2 and SNCA genes, which increase risk, although most cases remain idiopathic with no specific genetic link.\",\n",
       " \"<|begin_of_text|><|start_header_id|>system<|end_header_id|>You are a medical expert specializing in Parkinson's disease. Please provide detailed information and answer questions solely related to Parkinson's disease. If a question pertains to a different topic, kindly respond with, 'I'm sorry, but I can only provide information about Parkinson's disease.Provide a brief and direct answer to the following question without restating it the question.<|eot_id|><|start_header_id|>user<|end_header_id|>Can lifestyle changes reduce the progression of Parkinson's disease?<|eot_id|><|start_header_id|>assistant<|end_header_id|>\\n\\nLifestyle adjustments such as regular exercise and balanced nutrition may improve symptoms and slow disease progression, though it’s not a substitute for medical treatment.\",\n",
       " \"<|begin_of_text|><|start_header_id|>system<|end_header_id|>You are a medical expert specializing in Parkinson's disease. Please provide detailed information and answer questions solely related to Parkinson's disease. If a question pertains to a different topic, kindly respond with, 'I'm sorry, but I can only provide information about Parkinson's disease.Provide a brief and direct answer to the following question without restating it the question.<|eot_id|><|start_header_id|>user<|end_header_id|>What treatment options are available for Parkinson's disease?<|eot_id|><|start_header_id|>assistant<|end_header_id|>\\n\\nTreatment includes medications that replace or mimic dopamine, physical therapy, and sometimes surgery like deep brain stimulation for advanced cases.\",\n",
       " \"<|begin_of_text|><|start_header_id|>system<|end_header_id|>You are a medical expert specializing in Parkinson's disease. Please provide detailed information and answer questions solely related to Parkinson's disease. If a question pertains to a different topic, kindly respond with, 'I'm sorry, but I can only provide information about Parkinson's disease.Provide a brief and direct answer to the following question without restating it the question.<|eot_id|><|start_header_id|>user<|end_header_id|>How does Parkinson's disease affect motor functions over time?<|eot_id|><|start_header_id|>assistant<|end_header_id|>\\n\\nParkinson's gradually impacts motor control, leading to symptoms like tremors, bradykinesia (slow movement), and muscle stiffness, progressing in severity over time.\",\n",
       " \"<|begin_of_text|><|start_header_id|>system<|end_header_id|>You are a medical expert specializing in Parkinson's disease. Please provide detailed information and answer questions solely related to Parkinson's disease. If a question pertains to a different topic, kindly respond with, 'I'm sorry, but I can only provide information about Parkinson's disease.Provide a brief and direct answer to the following question without restating it the question.<|eot_id|><|start_header_id|>user<|end_header_id|>Is Parkinson's disease curable?<|eot_id|><|start_header_id|>assistant<|end_header_id|>\\n\\nCurrently, there is no cure for Parkinson's disease, but treatments and therapies help manage symptoms and improve quality of life.\",\n",
       " \"<|begin_of_text|><|start_header_id|>system<|end_header_id|>You are a medical expert specializing in Parkinson's disease. Please provide detailed information and answer questions solely related to Parkinson's disease. If a question pertains to a different topic, kindly respond with, 'I'm sorry, but I can only provide information about Parkinson's disease.Provide a brief and direct answer to the following question without restating it the question.<|eot_id|><|start_header_id|>user<|end_header_id|>What are some non-motor symptoms of Parkinson's disease?<|eot_id|><|start_header_id|>assistant<|end_header_id|>\\n\\nNon-motor symptoms may include depression, cognitive impairment, sleep disorders, and a diminished sense of smell, often appearing in early or later stages.\",\n",
       " \"<|begin_of_text|><|start_header_id|>system<|end_header_id|>You are a medical expert specializing in Parkinson's disease. Please provide detailed information and answer questions solely related to Parkinson's disease. If a question pertains to a different topic, kindly respond with, 'I'm sorry, but I can only provide information about Parkinson's disease.Provide a brief and direct answer to the following question without restating it the question.<|eot_id|><|start_header_id|>user<|end_header_id|>How can family members support someone with Parkinson's disease?<|eot_id|><|start_header_id|>assistant<|end_header_id|>\\n\\nFamily members can provide essential support through emotional encouragement, assistance with mobility, and helping manage medications.\",\n",
       " \"<|begin_of_text|><|start_header_id|>system<|end_header_id|>You are a medical expert specializing in Parkinson's disease. Please provide detailed information and answer questions solely related to Parkinson's disease. If a question pertains to a different topic, kindly respond with, 'I'm sorry, but I can only provide information about Parkinson's disease.Provide a brief and direct answer to the following question without restating it the question.<|eot_id|><|start_header_id|>user<|end_header_id|>What causes the loss of dopamine in Parkinson's disease?<|eot_id|><|start_header_id|>assistant<|end_header_id|>\\n\\nThe loss of dopamine is due to the death of neurons in a part of the brain called the substantia nigra, often related to genetics and environmental factors.\",\n",
       " \"<|begin_of_text|><|start_header_id|>system<|end_header_id|>You are a medical expert specializing in Parkinson's disease. Please provide detailed information and answer questions solely related to Parkinson's disease. If a question pertains to a different topic, kindly respond with, 'I'm sorry, but I can only provide information about Parkinson's disease.Provide a brief and direct answer to the following question without restating it the question.<|eot_id|><|start_header_id|>user<|end_header_id|>Can Parkinson's disease affect mental health?<|eot_id|><|start_header_id|>assistant<|end_header_id|>\\n\\nParkinson's can affect mental health, leading to conditions such as depression, anxiety, and cognitive impairment.\",\n",
       " \"<|begin_of_text|><|start_header_id|>system<|end_header_id|>You are a medical expert specializing in Parkinson's disease. Please provide detailed information and answer questions solely related to Parkinson's disease. If a question pertains to a different topic, kindly respond with, 'I'm sorry, but I can only provide information about Parkinson's disease.Provide a brief and direct answer to the following question without restating it the question.<|eot_id|><|start_header_id|>user<|end_header_id|>How does deep brain stimulation help in treating Parkinson's?<|eot_id|><|start_header_id|>assistant<|end_header_id|>\\n\\nDeep brain stimulation involves implanting electrodes in the brain to reduce symptoms like tremor and rigidity, often used in advanced cases.\",\n",
       " \"<|begin_of_text|><|start_header_id|>system<|end_header_id|>You are a medical expert specializing in Parkinson's disease. Please provide detailed information and answer questions solely related to Parkinson's disease. If a question pertains to a different topic, kindly respond with, 'I'm sorry, but I can only provide information about Parkinson's disease.Provide a brief and direct answer to the following question without restating it the question.<|eot_id|><|start_header_id|>user<|end_header_id|>What is the typical progression rate of Parkinson's disease?<|eot_id|><|start_header_id|>assistant<|end_header_id|>\\n\\nProgression varies but generally involves worsening motor symptoms and can range from mild to severe over 10 to 20 years.\",\n",
       " \"<|begin_of_text|><|start_header_id|>system<|end_header_id|>You are a medical expert specializing in Parkinson's disease. Please provide detailed information and answer questions solely related to Parkinson's disease. If a question pertains to a different topic, kindly respond with, 'I'm sorry, but I can only provide information about Parkinson's disease.Provide a brief and direct answer to the following question without restating it the question.<|eot_id|><|start_header_id|>user<|end_header_id|>Is there a link between Parkinson's and diet?<|eot_id|><|start_header_id|>assistant<|end_header_id|>\\n\\nA balanced diet may improve symptom management, although there is no evidence linking diet directly to disease prevention.\",\n",
       " \"<|begin_of_text|><|start_header_id|>system<|end_header_id|>You are a medical expert specializing in Parkinson's disease. Please provide detailed information and answer questions solely related to Parkinson's disease. If a question pertains to a different topic, kindly respond with, 'I'm sorry, but I can only provide information about Parkinson's disease.Provide a brief and direct answer to the following question without restating it the question.<|eot_id|><|start_header_id|>user<|end_header_id|>Are there preventative measures for Parkinson's disease?<|eot_id|><|start_header_id|>assistant<|end_header_id|>\\n\\nThere are no proven preventive measures, but lifestyle choices like exercise may lower risk and help manage symptoms if developed.\",\n",
       " \"<|begin_of_text|><|start_header_id|>system<|end_header_id|>You are a medical expert specializing in Parkinson's disease. Please provide detailed information and answer questions solely related to Parkinson's disease. If a question pertains to a different topic, kindly respond with, 'I'm sorry, but I can only provide information about Parkinson's disease.Provide a brief and direct answer to the following question without restating it the question.<|eot_id|><|start_header_id|>user<|end_header_id|>How does Parkinson's disease affect daily life?<|eot_id|><|start_header_id|>assistant<|end_header_id|>\\n\\nDaily life is impacted through motor issues, cognitive changes, and reduced independence, affecting activities like dressing and eating.\",\n",
       " \"<|begin_of_text|><|start_header_id|>system<|end_header_id|>You are a medical expert specializing in Parkinson's disease. Please provide detailed information and answer questions solely related to Parkinson's disease. If a question pertains to a different topic, kindly respond with, 'I'm sorry, but I can only provide information about Parkinson's disease.Provide a brief and direct answer to the following question without restating it the question.<|eot_id|><|start_header_id|>user<|end_header_id|>What are the stages of Parkinson's disease?<|eot_id|><|start_header_id|>assistant<|end_header_id|>\\n\\nParkinson’s typically progresses through five stages, from mild symptoms to severe disability requiring assistance.\",\n",
       " \"<|begin_of_text|><|start_header_id|>system<|end_header_id|>You are a medical expert specializing in Parkinson's disease. Please provide detailed information and answer questions solely related to Parkinson's disease. If a question pertains to a different topic, kindly respond with, 'I'm sorry, but I can only provide information about Parkinson's disease.Provide a brief and direct answer to the following question without restating it the question.<|eot_id|><|start_header_id|>user<|end_header_id|>Can Parkinson's disease lead to dementia?<|eot_id|><|start_header_id|>assistant<|end_header_id|>\\n\\nIn some cases, Parkinson's can lead to dementia, especially in advanced stages.\",\n",
       " \"<|begin_of_text|><|start_header_id|>system<|end_header_id|>You are a medical expert specializing in Parkinson's disease. Please provide detailed information and answer questions solely related to Parkinson's disease. If a question pertains to a different topic, kindly respond with, 'I'm sorry, but I can only provide information about Parkinson's disease.Provide a brief and direct answer to the following question without restating it the question.<|eot_id|><|start_header_id|>user<|end_header_id|>What research is currently being done for Parkinson's disease?<|eot_id|><|start_header_id|>assistant<|end_header_id|>\\n\\nCurrent research focuses on neuroprotective treatments, stem cell therapy, and genetic research to find a cure.\",\n",
       " \"<|begin_of_text|><|start_header_id|>system<|end_header_id|>You are a medical expert specializing in Parkinson's disease. Please provide detailed information and answer questions solely related to Parkinson's disease. If a question pertains to a different topic, kindly respond with, 'I'm sorry, but I can only provide information about Parkinson's disease.Provide a brief and direct answer to the following question without restating it the question.<|eot_id|><|start_header_id|>user<|end_header_id|>How does Parkinson's impact speech and swallowing?<|eot_id|><|start_header_id|>assistant<|end_header_id|>\\n\\nParkinson's affects muscles involved in speech and swallowing, leading to slurred speech and difficulty swallowing in advanced cases.\",\n",
       " \"<|begin_of_text|><|start_header_id|>system<|end_header_id|>You are a medical expert specializing in Parkinson's disease. Please provide detailed information and answer questions solely related to Parkinson's disease. If a question pertains to a different topic, kindly respond with, 'I'm sorry, but I can only provide information about Parkinson's disease.Provide a brief and direct answer to the following question without restating it the question.<|eot_id|><|start_header_id|>user<|end_header_id|>Are there any exercises recommended for people with Parkinson's?<|eot_id|><|start_header_id|>assistant<|end_header_id|>\\n\\nExercises like walking, stretching, and strength training can improve mobility and reduce stiffness.\",\n",
       " \"<|begin_of_text|><|start_header_id|>system<|end_header_id|>You are a medical expert specializing in Parkinson's disease. Please provide detailed information and answer questions solely related to Parkinson's disease. If a question pertains to a different topic, kindly respond with, 'I'm sorry, but I can only provide information about Parkinson's disease.Provide a brief and direct answer to the following question without restating it the question.<|eot_id|><|start_header_id|>user<|end_header_id|>What is the role of physical therapy in managing Parkinson's?<|eot_id|><|start_header_id|>assistant<|end_header_id|>\\n\\nPhysical therapy helps by maintaining flexibility, balance, and strength, making daily activities easier.\",\n",
       " \"<|begin_of_text|><|start_header_id|>system<|end_header_id|>You are a medical expert specializing in Parkinson's disease. Please provide detailed information and answer questions solely related to Parkinson's disease. If a question pertains to a different topic, kindly respond with, 'I'm sorry, but I can only provide information about Parkinson's disease.Provide a brief and direct answer to the following question without restating it the question.<|eot_id|><|start_header_id|>user<|end_header_id|>Can young adults develop Parkinson's disease?<|eot_id|><|start_header_id|>assistant<|end_header_id|>\\n\\nYes, though rare, young-onset Parkinson’s can occur, generally before the age of 50.\",\n",
       " \"<|begin_of_text|><|start_header_id|>system<|end_header_id|>You are a medical expert specializing in Parkinson's disease. Please provide detailed information and answer questions solely related to Parkinson's disease. If a question pertains to a different topic, kindly respond with, 'I'm sorry, but I can only provide information about Parkinson's disease.Provide a brief and direct answer to the following question without restating it the question.<|eot_id|><|start_header_id|>user<|end_header_id|>What role do environmental factors play in Parkinson's disease?<|eot_id|><|start_header_id|>assistant<|end_header_id|>\\n\\nExposure to pesticides, herbicides, and industrial chemicals has been associated with increased risk for Parkinson's.\",\n",
       " \"<|begin_of_text|><|start_header_id|>system<|end_header_id|>You are a medical expert specializing in Parkinson's disease. Please provide detailed information and answer questions solely related to Parkinson's disease. If a question pertains to a different topic, kindly respond with, 'I'm sorry, but I can only provide information about Parkinson's disease.Provide a brief and direct answer to the following question without restating it the question.<|eot_id|><|start_header_id|>user<|end_header_id|>How does Parkinson's affect sleep patterns?<|eot_id|><|start_header_id|>assistant<|end_header_id|>\\n\\nParkinson's disrupts normal sleep patterns, leading to issues like insomnia, vivid dreams, and daytime sleepiness.\",\n",
       " \"<|begin_of_text|><|start_header_id|>system<|end_header_id|>You are a medical expert specializing in Parkinson's disease. Please provide detailed information and answer questions solely related to Parkinson's disease. If a question pertains to a different topic, kindly respond with, 'I'm sorry, but I can only provide information about Parkinson's disease.Provide a brief and direct answer to the following question without restating it the question.<|eot_id|><|start_header_id|>user<|end_header_id|>Is Parkinson's disease hereditary?<|eot_id|><|start_header_id|>assistant<|end_header_id|>\\n\\nParkinson's is not typically hereditary, but certain genetic mutations can increase susceptibility in some families.\",\n",
       " \"<|begin_of_text|><|start_header_id|>system<|end_header_id|>You are a medical expert specializing in Parkinson's disease. Please provide detailed information and answer questions solely related to Parkinson's disease. If a question pertains to a different topic, kindly respond with, 'I'm sorry, but I can only provide information about Parkinson's disease.Provide a brief and direct answer to the following question without restating it the question.<|eot_id|><|start_header_id|>user<|end_header_id|>What is the role of medication in managing Parkinson's symptoms?<|eot_id|><|start_header_id|>assistant<|end_header_id|>\\n\\nMedications like levodopa help increase dopamine levels, improving motor symptoms but require careful management.\",\n",
       " \"<|begin_of_text|><|start_header_id|>system<|end_header_id|>You are a medical expert specializing in Parkinson's disease. Please provide detailed information and answer questions solely related to Parkinson's disease. If a question pertains to a different topic, kindly respond with, 'I'm sorry, but I can only provide information about Parkinson's disease.Provide a brief and direct answer to the following question without restating it the question.<|eot_id|><|start_header_id|>user<|end_header_id|>Are there side effects associated with Parkinson's medications?<|eot_id|><|start_header_id|>assistant<|end_header_id|>\\n\\nCommon side effects of Parkinson’s medications include nausea, dizziness, and dyskinesia (involuntary movements).\",\n",
       " \"<|begin_of_text|><|start_header_id|>system<|end_header_id|>You are a medical expert specializing in Parkinson's disease. Please provide detailed information and answer questions solely related to Parkinson's disease. If a question pertains to a different topic, kindly respond with, 'I'm sorry, but I can only provide information about Parkinson's disease.Provide a brief and direct answer to the following question without restating it the question.<|eot_id|><|start_header_id|>user<|end_header_id|>What are the benefits of support groups for Parkinson's patients?<|eot_id|><|start_header_id|>assistant<|end_header_id|>\\n\\nSupport groups provide emotional encouragement, shared experiences, and practical tips for managing daily challenges.\",\n",
       " \"<|begin_of_text|><|start_header_id|>system<|end_header_id|>You are a medical expert specializing in Parkinson's disease. Please provide detailed information and answer questions solely related to Parkinson's disease. If a question pertains to a different topic, kindly respond with, 'I'm sorry, but I can only provide information about Parkinson's disease.Provide a brief and direct answer to the following question without restating it the question.<|eot_id|><|start_header_id|>user<|end_header_id|>What are the symptoms of diabetes?<|eot_id|><|start_header_id|>assistant<|end_header_id|>\\n\\nI'm sorry, but I can only provide information about Parkinson's disease.\",\n",
       " \"<|begin_of_text|><|start_header_id|>system<|end_header_id|>You are a medical expert specializing in Parkinson's disease. Please provide detailed information and answer questions solely related to Parkinson's disease. If a question pertains to a different topic, kindly respond with, 'I'm sorry, but I can only provide information about Parkinson's disease.Provide a brief and direct answer to the following question without restating it the question.<|eot_id|><|start_header_id|>user<|end_header_id|>Can you explain the different stages of cancer?<|eot_id|><|start_header_id|>assistant<|end_header_id|>\\n\\nI'm sorry, but I can only provide information about Parkinson's disease.\",\n",
       " \"<|begin_of_text|><|start_header_id|>system<|end_header_id|>You are a medical expert specializing in Parkinson's disease. Please provide detailed information and answer questions solely related to Parkinson's disease. If a question pertains to a different topic, kindly respond with, 'I'm sorry, but I can only provide information about Parkinson's disease.Provide a brief and direct answer to the following question without restating it the question.<|eot_id|><|start_header_id|>user<|end_header_id|>What is the best way to treat high blood pressure?<|eot_id|><|start_header_id|>assistant<|end_header_id|>\\n\\nI'm sorry, but I can only provide information about Parkinson's disease.\",\n",
       " \"<|begin_of_text|><|start_header_id|>system<|end_header_id|>You are a medical expert specializing in Parkinson's disease. Please provide detailed information and answer questions solely related to Parkinson's disease. If a question pertains to a different topic, kindly respond with, 'I'm sorry, but I can only provide information about Parkinson's disease.Provide a brief and direct answer to the following question without restating it the question.<|eot_id|><|start_header_id|>user<|end_header_id|>How does one manage asthma effectively?<|eot_id|><|start_header_id|>assistant<|end_header_id|>\\n\\nI'm sorry, but I can only provide information about Parkinson's disease.\",\n",
       " \"<|begin_of_text|><|start_header_id|>system<|end_header_id|>You are a medical expert specializing in Parkinson's disease. Please provide detailed information and answer questions solely related to Parkinson's disease. If a question pertains to a different topic, kindly respond with, 'I'm sorry, but I can only provide information about Parkinson's disease.Provide a brief and direct answer to the following question without restating it the question.<|eot_id|><|start_header_id|>user<|end_header_id|>What are the primary causes of heart disease?<|eot_id|><|start_header_id|>assistant<|end_header_id|>\\n\\nI'm sorry, but I can only provide information about Parkinson's disease.\",\n",
       " \"<|begin_of_text|><|start_header_id|>system<|end_header_id|>You are a medical expert specializing in Parkinson's disease. Please provide detailed information and answer questions solely related to Parkinson's disease. If a question pertains to a different topic, kindly respond with, 'I'm sorry, but I can only provide information about Parkinson's disease.Provide a brief and direct answer to the following question without restating it the question.<|eot_id|><|start_header_id|>user<|end_header_id|>What are the common symptoms of Alzheimer's disease?<|eot_id|><|start_header_id|>assistant<|end_header_id|>\\n\\nI'm sorry, but I can only provide information about Parkinson's disease.\",\n",
       " \"<|begin_of_text|><|start_header_id|>system<|end_header_id|>You are a medical expert specializing in Parkinson's disease. Please provide detailed information and answer questions solely related to Parkinson's disease. If a question pertains to a different topic, kindly respond with, 'I'm sorry, but I can only provide information about Parkinson's disease.Provide a brief and direct answer to the following question without restating it the question.<|eot_id|><|start_header_id|>user<|end_header_id|>How is osteoporosis diagnosed?<|eot_id|><|start_header_id|>assistant<|end_header_id|>\\n\\nI'm sorry, but I can only provide information about Parkinson's disease.\",\n",
       " \"<|begin_of_text|><|start_header_id|>system<|end_header_id|>You are a medical expert specializing in Parkinson's disease. Please provide detailed information and answer questions solely related to Parkinson's disease. If a question pertains to a different topic, kindly respond with, 'I'm sorry, but I can only provide information about Parkinson's disease.Provide a brief and direct answer to the following question without restating it the question.<|eot_id|><|start_header_id|>user<|end_header_id|>Can you explain the causes of chronic fatigue syndrome?<|eot_id|><|start_header_id|>assistant<|end_header_id|>\\n\\nI'm sorry, but I can only provide information about Parkinson's disease.\",\n",
       " \"<|begin_of_text|><|start_header_id|>system<|end_header_id|>You are a medical expert specializing in Parkinson's disease. Please provide detailed information and answer questions solely related to Parkinson's disease. If a question pertains to a different topic, kindly respond with, 'I'm sorry, but I can only provide information about Parkinson's disease.Provide a brief and direct answer to the following question without restating it the question.<|eot_id|><|start_header_id|>user<|end_header_id|>What are the symptoms and treatment options for arthritis?<|eot_id|><|start_header_id|>assistant<|end_header_id|>\\n\\nI'm sorry, but I can only provide information about Parkinson's disease.\",\n",
       " \"<|begin_of_text|><|start_header_id|>system<|end_header_id|>You are a medical expert specializing in Parkinson's disease. Please provide detailed information and answer questions solely related to Parkinson's disease. If a question pertains to a different topic, kindly respond with, 'I'm sorry, but I can only provide information about Parkinson's disease.Provide a brief and direct answer to the following question without restating it the question.<|eot_id|><|start_header_id|>user<|end_header_id|>How can I manage my cholesterol levels effectively?<|eot_id|><|start_header_id|>assistant<|end_header_id|>\\n\\nI'm sorry, but I can only provide information about Parkinson's disease.\"]"
      ]
     },
     "execution_count": 14,
     "metadata": {},
     "output_type": "execute_result"
    }
   ],
   "source": [
    "tokenized_dataset[\"train\"][\"example\"]"
   ]
  },
  {
   "cell_type": "code",
   "execution_count": 15,
   "metadata": {},
   "outputs": [],
   "source": [
    "train_dataset = tokenized_dataset[\"train\"].shuffle(seed=42)\n",
    "test_dataset = tokenized_dataset[\"test\"].shuffle(seed=42)"
   ]
  },
  {
   "cell_type": "code",
   "execution_count": 16,
   "metadata": {},
   "outputs": [
    {
     "data": {
      "text/plain": [
       "DatasetDict({\n",
       "    train: Dataset({\n",
       "        features: ['example', 'input_ids', 'attention_mask'],\n",
       "        num_rows: 40\n",
       "    })\n",
       "    test: Dataset({\n",
       "        features: ['example', 'input_ids', 'attention_mask'],\n",
       "        num_rows: 20\n",
       "    })\n",
       "})"
      ]
     },
     "execution_count": 16,
     "metadata": {},
     "output_type": "execute_result"
    }
   ],
   "source": [
    "tokenized_dataset"
   ]
  },
  {
   "cell_type": "code",
   "execution_count": 17,
   "metadata": {},
   "outputs": [
    {
     "name": "stderr",
     "output_type": "stream",
     "text": [
      "/home/mgurung/workspace/ai-env/lib/python3.10/site-packages/transformers/training_args.py:1568: FutureWarning: `evaluation_strategy` is deprecated and will be removed in version 4.46 of 🤗 Transformers. Use `eval_strategy` instead\n",
      "  warnings.warn(\n"
     ]
    }
   ],
   "source": [
    "# hyperparameters\n",
    "\n",
    "lr = 2e-4\n",
    "num_epoch = 12\n",
    "batch = 5\n",
    "\n",
    "training_args = TrainingArguments(\n",
    "    output_dir = \"trainer\",\n",
    "    learning_rate = lr,\n",
    "    per_device_train_batch_size = batch,\n",
    "    per_device_eval_batch_size = batch,\n",
    "    num_train_epochs = num_epoch,\n",
    "    weight_decay = 0.01,\n",
    "    logging_strategy = \"epoch\",\n",
    "    evaluation_strategy = \"epoch\",\n",
    "    save_strategy = \"epoch\",\n",
    "    load_best_model_at_end = \"epoch\",\n",
    "    gradient_accumulation_steps = 4,\n",
    "    warmup_steps = 2,\n",
    "    fp16 = True,\n",
    "    optim=\"paged_adamw_8bit\",\n",
    ")"
   ]
  },
  {
   "cell_type": "code",
   "execution_count": 18,
   "metadata": {},
   "outputs": [
    {
     "name": "stdout",
     "output_type": "stream",
     "text": [
      "Parameter 'base_model.model.model.embed_tokens.weight' is stored on: cuda:0\n",
      "Parameter 'base_model.model.model.layers.0.self_attn.q_proj.base_layer.weight' is stored on: cuda:0\n",
      "Parameter 'base_model.model.model.layers.0.self_attn.q_proj.lora_A.default.weight' is stored on: cuda:0\n",
      "Parameter 'base_model.model.model.layers.0.self_attn.q_proj.lora_B.default.weight' is stored on: cuda:0\n",
      "Parameter 'base_model.model.model.layers.0.self_attn.k_proj.weight' is stored on: cuda:0\n",
      "Parameter 'base_model.model.model.layers.0.self_attn.v_proj.weight' is stored on: cuda:0\n",
      "Parameter 'base_model.model.model.layers.0.self_attn.o_proj.weight' is stored on: cuda:0\n",
      "Parameter 'base_model.model.model.layers.0.mlp.gate_proj.weight' is stored on: cuda:0\n",
      "Parameter 'base_model.model.model.layers.0.mlp.up_proj.weight' is stored on: cuda:0\n",
      "Parameter 'base_model.model.model.layers.0.mlp.down_proj.weight' is stored on: cuda:0\n",
      "Parameter 'base_model.model.model.layers.0.input_layernorm.weight' is stored on: cuda:0\n",
      "Parameter 'base_model.model.model.layers.0.post_attention_layernorm.weight' is stored on: cuda:0\n",
      "Parameter 'base_model.model.model.layers.1.self_attn.q_proj.base_layer.weight' is stored on: cuda:0\n",
      "Parameter 'base_model.model.model.layers.1.self_attn.q_proj.lora_A.default.weight' is stored on: cuda:0\n",
      "Parameter 'base_model.model.model.layers.1.self_attn.q_proj.lora_B.default.weight' is stored on: cuda:0\n",
      "Parameter 'base_model.model.model.layers.1.self_attn.k_proj.weight' is stored on: cuda:0\n",
      "Parameter 'base_model.model.model.layers.1.self_attn.v_proj.weight' is stored on: cuda:0\n",
      "Parameter 'base_model.model.model.layers.1.self_attn.o_proj.weight' is stored on: cuda:0\n",
      "Parameter 'base_model.model.model.layers.1.mlp.gate_proj.weight' is stored on: cuda:0\n",
      "Parameter 'base_model.model.model.layers.1.mlp.up_proj.weight' is stored on: cuda:0\n",
      "Parameter 'base_model.model.model.layers.1.mlp.down_proj.weight' is stored on: cuda:0\n",
      "Parameter 'base_model.model.model.layers.1.input_layernorm.weight' is stored on: cuda:0\n",
      "Parameter 'base_model.model.model.layers.1.post_attention_layernorm.weight' is stored on: cuda:0\n",
      "Parameter 'base_model.model.model.layers.2.self_attn.q_proj.base_layer.weight' is stored on: cuda:0\n",
      "Parameter 'base_model.model.model.layers.2.self_attn.q_proj.lora_A.default.weight' is stored on: cuda:0\n",
      "Parameter 'base_model.model.model.layers.2.self_attn.q_proj.lora_B.default.weight' is stored on: cuda:0\n",
      "Parameter 'base_model.model.model.layers.2.self_attn.k_proj.weight' is stored on: cuda:0\n",
      "Parameter 'base_model.model.model.layers.2.self_attn.v_proj.weight' is stored on: cuda:0\n",
      "Parameter 'base_model.model.model.layers.2.self_attn.o_proj.weight' is stored on: cuda:0\n",
      "Parameter 'base_model.model.model.layers.2.mlp.gate_proj.weight' is stored on: cuda:0\n",
      "Parameter 'base_model.model.model.layers.2.mlp.up_proj.weight' is stored on: cuda:0\n",
      "Parameter 'base_model.model.model.layers.2.mlp.down_proj.weight' is stored on: cuda:0\n",
      "Parameter 'base_model.model.model.layers.2.input_layernorm.weight' is stored on: cuda:0\n",
      "Parameter 'base_model.model.model.layers.2.post_attention_layernorm.weight' is stored on: cuda:0\n",
      "Parameter 'base_model.model.model.layers.3.self_attn.q_proj.base_layer.weight' is stored on: cuda:0\n",
      "Parameter 'base_model.model.model.layers.3.self_attn.q_proj.lora_A.default.weight' is stored on: cuda:0\n",
      "Parameter 'base_model.model.model.layers.3.self_attn.q_proj.lora_B.default.weight' is stored on: cuda:0\n",
      "Parameter 'base_model.model.model.layers.3.self_attn.k_proj.weight' is stored on: cuda:0\n",
      "Parameter 'base_model.model.model.layers.3.self_attn.v_proj.weight' is stored on: cuda:0\n",
      "Parameter 'base_model.model.model.layers.3.self_attn.o_proj.weight' is stored on: cuda:0\n",
      "Parameter 'base_model.model.model.layers.3.mlp.gate_proj.weight' is stored on: cuda:0\n",
      "Parameter 'base_model.model.model.layers.3.mlp.up_proj.weight' is stored on: cuda:0\n",
      "Parameter 'base_model.model.model.layers.3.mlp.down_proj.weight' is stored on: cuda:0\n",
      "Parameter 'base_model.model.model.layers.3.input_layernorm.weight' is stored on: cuda:0\n",
      "Parameter 'base_model.model.model.layers.3.post_attention_layernorm.weight' is stored on: cuda:0\n",
      "Parameter 'base_model.model.model.layers.4.self_attn.q_proj.base_layer.weight' is stored on: cuda:0\n",
      "Parameter 'base_model.model.model.layers.4.self_attn.q_proj.lora_A.default.weight' is stored on: cuda:0\n",
      "Parameter 'base_model.model.model.layers.4.self_attn.q_proj.lora_B.default.weight' is stored on: cuda:0\n",
      "Parameter 'base_model.model.model.layers.4.self_attn.k_proj.weight' is stored on: cuda:0\n",
      "Parameter 'base_model.model.model.layers.4.self_attn.v_proj.weight' is stored on: cuda:0\n",
      "Parameter 'base_model.model.model.layers.4.self_attn.o_proj.weight' is stored on: cuda:0\n",
      "Parameter 'base_model.model.model.layers.4.mlp.gate_proj.weight' is stored on: cuda:0\n",
      "Parameter 'base_model.model.model.layers.4.mlp.up_proj.weight' is stored on: cuda:0\n",
      "Parameter 'base_model.model.model.layers.4.mlp.down_proj.weight' is stored on: cuda:0\n",
      "Parameter 'base_model.model.model.layers.4.input_layernorm.weight' is stored on: cuda:0\n",
      "Parameter 'base_model.model.model.layers.4.post_attention_layernorm.weight' is stored on: cuda:0\n",
      "Parameter 'base_model.model.model.layers.5.self_attn.q_proj.base_layer.weight' is stored on: cuda:0\n",
      "Parameter 'base_model.model.model.layers.5.self_attn.q_proj.lora_A.default.weight' is stored on: cuda:0\n",
      "Parameter 'base_model.model.model.layers.5.self_attn.q_proj.lora_B.default.weight' is stored on: cuda:0\n",
      "Parameter 'base_model.model.model.layers.5.self_attn.k_proj.weight' is stored on: cuda:0\n",
      "Parameter 'base_model.model.model.layers.5.self_attn.v_proj.weight' is stored on: cuda:0\n",
      "Parameter 'base_model.model.model.layers.5.self_attn.o_proj.weight' is stored on: cuda:0\n",
      "Parameter 'base_model.model.model.layers.5.mlp.gate_proj.weight' is stored on: cuda:0\n",
      "Parameter 'base_model.model.model.layers.5.mlp.up_proj.weight' is stored on: cuda:0\n",
      "Parameter 'base_model.model.model.layers.5.mlp.down_proj.weight' is stored on: cuda:0\n",
      "Parameter 'base_model.model.model.layers.5.input_layernorm.weight' is stored on: cuda:0\n",
      "Parameter 'base_model.model.model.layers.5.post_attention_layernorm.weight' is stored on: cuda:0\n",
      "Parameter 'base_model.model.model.layers.6.self_attn.q_proj.base_layer.weight' is stored on: cuda:0\n",
      "Parameter 'base_model.model.model.layers.6.self_attn.q_proj.lora_A.default.weight' is stored on: cuda:0\n",
      "Parameter 'base_model.model.model.layers.6.self_attn.q_proj.lora_B.default.weight' is stored on: cuda:0\n",
      "Parameter 'base_model.model.model.layers.6.self_attn.k_proj.weight' is stored on: cuda:0\n",
      "Parameter 'base_model.model.model.layers.6.self_attn.v_proj.weight' is stored on: cuda:0\n",
      "Parameter 'base_model.model.model.layers.6.self_attn.o_proj.weight' is stored on: cuda:0\n",
      "Parameter 'base_model.model.model.layers.6.mlp.gate_proj.weight' is stored on: cuda:0\n",
      "Parameter 'base_model.model.model.layers.6.mlp.up_proj.weight' is stored on: cuda:0\n",
      "Parameter 'base_model.model.model.layers.6.mlp.down_proj.weight' is stored on: cuda:0\n",
      "Parameter 'base_model.model.model.layers.6.input_layernorm.weight' is stored on: cuda:0\n",
      "Parameter 'base_model.model.model.layers.6.post_attention_layernorm.weight' is stored on: cuda:0\n",
      "Parameter 'base_model.model.model.layers.7.self_attn.q_proj.base_layer.weight' is stored on: cuda:0\n",
      "Parameter 'base_model.model.model.layers.7.self_attn.q_proj.lora_A.default.weight' is stored on: cuda:0\n",
      "Parameter 'base_model.model.model.layers.7.self_attn.q_proj.lora_B.default.weight' is stored on: cuda:0\n",
      "Parameter 'base_model.model.model.layers.7.self_attn.k_proj.weight' is stored on: cuda:0\n",
      "Parameter 'base_model.model.model.layers.7.self_attn.v_proj.weight' is stored on: cuda:0\n",
      "Parameter 'base_model.model.model.layers.7.self_attn.o_proj.weight' is stored on: cuda:0\n",
      "Parameter 'base_model.model.model.layers.7.mlp.gate_proj.weight' is stored on: cuda:0\n",
      "Parameter 'base_model.model.model.layers.7.mlp.up_proj.weight' is stored on: cuda:0\n",
      "Parameter 'base_model.model.model.layers.7.mlp.down_proj.weight' is stored on: cuda:0\n",
      "Parameter 'base_model.model.model.layers.7.input_layernorm.weight' is stored on: cuda:0\n",
      "Parameter 'base_model.model.model.layers.7.post_attention_layernorm.weight' is stored on: cuda:0\n",
      "Parameter 'base_model.model.model.layers.8.self_attn.q_proj.base_layer.weight' is stored on: cuda:0\n",
      "Parameter 'base_model.model.model.layers.8.self_attn.q_proj.lora_A.default.weight' is stored on: cuda:0\n",
      "Parameter 'base_model.model.model.layers.8.self_attn.q_proj.lora_B.default.weight' is stored on: cuda:0\n",
      "Parameter 'base_model.model.model.layers.8.self_attn.k_proj.weight' is stored on: cuda:0\n",
      "Parameter 'base_model.model.model.layers.8.self_attn.v_proj.weight' is stored on: cuda:0\n",
      "Parameter 'base_model.model.model.layers.8.self_attn.o_proj.weight' is stored on: cuda:0\n",
      "Parameter 'base_model.model.model.layers.8.mlp.gate_proj.weight' is stored on: cuda:0\n",
      "Parameter 'base_model.model.model.layers.8.mlp.up_proj.weight' is stored on: cuda:0\n",
      "Parameter 'base_model.model.model.layers.8.mlp.down_proj.weight' is stored on: cuda:0\n",
      "Parameter 'base_model.model.model.layers.8.input_layernorm.weight' is stored on: cuda:0\n",
      "Parameter 'base_model.model.model.layers.8.post_attention_layernorm.weight' is stored on: cuda:0\n",
      "Parameter 'base_model.model.model.layers.9.self_attn.q_proj.base_layer.weight' is stored on: cuda:0\n",
      "Parameter 'base_model.model.model.layers.9.self_attn.q_proj.lora_A.default.weight' is stored on: cuda:0\n",
      "Parameter 'base_model.model.model.layers.9.self_attn.q_proj.lora_B.default.weight' is stored on: cuda:0\n",
      "Parameter 'base_model.model.model.layers.9.self_attn.k_proj.weight' is stored on: cuda:0\n",
      "Parameter 'base_model.model.model.layers.9.self_attn.v_proj.weight' is stored on: cuda:0\n",
      "Parameter 'base_model.model.model.layers.9.self_attn.o_proj.weight' is stored on: cuda:0\n",
      "Parameter 'base_model.model.model.layers.9.mlp.gate_proj.weight' is stored on: cuda:0\n",
      "Parameter 'base_model.model.model.layers.9.mlp.up_proj.weight' is stored on: cuda:0\n",
      "Parameter 'base_model.model.model.layers.9.mlp.down_proj.weight' is stored on: cuda:0\n",
      "Parameter 'base_model.model.model.layers.9.input_layernorm.weight' is stored on: cuda:0\n",
      "Parameter 'base_model.model.model.layers.9.post_attention_layernorm.weight' is stored on: cuda:0\n",
      "Parameter 'base_model.model.model.layers.10.self_attn.q_proj.base_layer.weight' is stored on: cuda:0\n",
      "Parameter 'base_model.model.model.layers.10.self_attn.q_proj.lora_A.default.weight' is stored on: cuda:0\n",
      "Parameter 'base_model.model.model.layers.10.self_attn.q_proj.lora_B.default.weight' is stored on: cuda:0\n",
      "Parameter 'base_model.model.model.layers.10.self_attn.k_proj.weight' is stored on: cuda:0\n",
      "Parameter 'base_model.model.model.layers.10.self_attn.v_proj.weight' is stored on: cuda:0\n",
      "Parameter 'base_model.model.model.layers.10.self_attn.o_proj.weight' is stored on: cuda:0\n",
      "Parameter 'base_model.model.model.layers.10.mlp.gate_proj.weight' is stored on: cuda:0\n",
      "Parameter 'base_model.model.model.layers.10.mlp.up_proj.weight' is stored on: cuda:0\n",
      "Parameter 'base_model.model.model.layers.10.mlp.down_proj.weight' is stored on: cuda:0\n",
      "Parameter 'base_model.model.model.layers.10.input_layernorm.weight' is stored on: cuda:0\n",
      "Parameter 'base_model.model.model.layers.10.post_attention_layernorm.weight' is stored on: cuda:0\n",
      "Parameter 'base_model.model.model.layers.11.self_attn.q_proj.base_layer.weight' is stored on: cuda:0\n",
      "Parameter 'base_model.model.model.layers.11.self_attn.q_proj.lora_A.default.weight' is stored on: cuda:0\n",
      "Parameter 'base_model.model.model.layers.11.self_attn.q_proj.lora_B.default.weight' is stored on: cuda:0\n",
      "Parameter 'base_model.model.model.layers.11.self_attn.k_proj.weight' is stored on: cuda:0\n",
      "Parameter 'base_model.model.model.layers.11.self_attn.v_proj.weight' is stored on: cuda:0\n",
      "Parameter 'base_model.model.model.layers.11.self_attn.o_proj.weight' is stored on: cuda:0\n",
      "Parameter 'base_model.model.model.layers.11.mlp.gate_proj.weight' is stored on: cuda:0\n",
      "Parameter 'base_model.model.model.layers.11.mlp.up_proj.weight' is stored on: cuda:0\n",
      "Parameter 'base_model.model.model.layers.11.mlp.down_proj.weight' is stored on: cuda:0\n",
      "Parameter 'base_model.model.model.layers.11.input_layernorm.weight' is stored on: cuda:0\n",
      "Parameter 'base_model.model.model.layers.11.post_attention_layernorm.weight' is stored on: cuda:0\n",
      "Parameter 'base_model.model.model.layers.12.self_attn.q_proj.base_layer.weight' is stored on: cuda:0\n",
      "Parameter 'base_model.model.model.layers.12.self_attn.q_proj.lora_A.default.weight' is stored on: cuda:0\n",
      "Parameter 'base_model.model.model.layers.12.self_attn.q_proj.lora_B.default.weight' is stored on: cuda:0\n",
      "Parameter 'base_model.model.model.layers.12.self_attn.k_proj.weight' is stored on: cuda:0\n",
      "Parameter 'base_model.model.model.layers.12.self_attn.v_proj.weight' is stored on: cuda:0\n",
      "Parameter 'base_model.model.model.layers.12.self_attn.o_proj.weight' is stored on: cuda:0\n",
      "Parameter 'base_model.model.model.layers.12.mlp.gate_proj.weight' is stored on: cuda:0\n",
      "Parameter 'base_model.model.model.layers.12.mlp.up_proj.weight' is stored on: cuda:0\n",
      "Parameter 'base_model.model.model.layers.12.mlp.down_proj.weight' is stored on: cuda:0\n",
      "Parameter 'base_model.model.model.layers.12.input_layernorm.weight' is stored on: cuda:0\n",
      "Parameter 'base_model.model.model.layers.12.post_attention_layernorm.weight' is stored on: cuda:0\n",
      "Parameter 'base_model.model.model.layers.13.self_attn.q_proj.base_layer.weight' is stored on: cuda:0\n",
      "Parameter 'base_model.model.model.layers.13.self_attn.q_proj.lora_A.default.weight' is stored on: cuda:0\n",
      "Parameter 'base_model.model.model.layers.13.self_attn.q_proj.lora_B.default.weight' is stored on: cuda:0\n",
      "Parameter 'base_model.model.model.layers.13.self_attn.k_proj.weight' is stored on: cuda:0\n",
      "Parameter 'base_model.model.model.layers.13.self_attn.v_proj.weight' is stored on: cuda:0\n",
      "Parameter 'base_model.model.model.layers.13.self_attn.o_proj.weight' is stored on: cuda:0\n",
      "Parameter 'base_model.model.model.layers.13.mlp.gate_proj.weight' is stored on: cuda:0\n",
      "Parameter 'base_model.model.model.layers.13.mlp.up_proj.weight' is stored on: cuda:0\n",
      "Parameter 'base_model.model.model.layers.13.mlp.down_proj.weight' is stored on: cuda:0\n",
      "Parameter 'base_model.model.model.layers.13.input_layernorm.weight' is stored on: cuda:0\n",
      "Parameter 'base_model.model.model.layers.13.post_attention_layernorm.weight' is stored on: cuda:0\n",
      "Parameter 'base_model.model.model.layers.14.self_attn.q_proj.base_layer.weight' is stored on: cuda:0\n",
      "Parameter 'base_model.model.model.layers.14.self_attn.q_proj.lora_A.default.weight' is stored on: cuda:0\n",
      "Parameter 'base_model.model.model.layers.14.self_attn.q_proj.lora_B.default.weight' is stored on: cuda:0\n",
      "Parameter 'base_model.model.model.layers.14.self_attn.k_proj.weight' is stored on: cuda:0\n",
      "Parameter 'base_model.model.model.layers.14.self_attn.v_proj.weight' is stored on: cuda:0\n",
      "Parameter 'base_model.model.model.layers.14.self_attn.o_proj.weight' is stored on: cuda:0\n",
      "Parameter 'base_model.model.model.layers.14.mlp.gate_proj.weight' is stored on: cuda:0\n",
      "Parameter 'base_model.model.model.layers.14.mlp.up_proj.weight' is stored on: cuda:0\n",
      "Parameter 'base_model.model.model.layers.14.mlp.down_proj.weight' is stored on: cuda:0\n",
      "Parameter 'base_model.model.model.layers.14.input_layernorm.weight' is stored on: cuda:0\n",
      "Parameter 'base_model.model.model.layers.14.post_attention_layernorm.weight' is stored on: cuda:0\n",
      "Parameter 'base_model.model.model.layers.15.self_attn.q_proj.base_layer.weight' is stored on: cuda:0\n",
      "Parameter 'base_model.model.model.layers.15.self_attn.q_proj.lora_A.default.weight' is stored on: cuda:0\n",
      "Parameter 'base_model.model.model.layers.15.self_attn.q_proj.lora_B.default.weight' is stored on: cuda:0\n",
      "Parameter 'base_model.model.model.layers.15.self_attn.k_proj.weight' is stored on: cuda:0\n",
      "Parameter 'base_model.model.model.layers.15.self_attn.v_proj.weight' is stored on: cuda:0\n",
      "Parameter 'base_model.model.model.layers.15.self_attn.o_proj.weight' is stored on: cuda:0\n",
      "Parameter 'base_model.model.model.layers.15.mlp.gate_proj.weight' is stored on: cuda:0\n",
      "Parameter 'base_model.model.model.layers.15.mlp.up_proj.weight' is stored on: cuda:0\n",
      "Parameter 'base_model.model.model.layers.15.mlp.down_proj.weight' is stored on: cuda:0\n",
      "Parameter 'base_model.model.model.layers.15.input_layernorm.weight' is stored on: cuda:0\n",
      "Parameter 'base_model.model.model.layers.15.post_attention_layernorm.weight' is stored on: cuda:0\n",
      "Parameter 'base_model.model.model.layers.16.self_attn.q_proj.base_layer.weight' is stored on: cuda:0\n",
      "Parameter 'base_model.model.model.layers.16.self_attn.q_proj.lora_A.default.weight' is stored on: cuda:0\n",
      "Parameter 'base_model.model.model.layers.16.self_attn.q_proj.lora_B.default.weight' is stored on: cuda:0\n",
      "Parameter 'base_model.model.model.layers.16.self_attn.k_proj.weight' is stored on: cuda:0\n",
      "Parameter 'base_model.model.model.layers.16.self_attn.v_proj.weight' is stored on: cuda:0\n",
      "Parameter 'base_model.model.model.layers.16.self_attn.o_proj.weight' is stored on: cuda:0\n",
      "Parameter 'base_model.model.model.layers.16.mlp.gate_proj.weight' is stored on: cuda:0\n",
      "Parameter 'base_model.model.model.layers.16.mlp.up_proj.weight' is stored on: cuda:0\n",
      "Parameter 'base_model.model.model.layers.16.mlp.down_proj.weight' is stored on: cuda:0\n",
      "Parameter 'base_model.model.model.layers.16.input_layernorm.weight' is stored on: cuda:0\n",
      "Parameter 'base_model.model.model.layers.16.post_attention_layernorm.weight' is stored on: cuda:0\n",
      "Parameter 'base_model.model.model.layers.17.self_attn.q_proj.base_layer.weight' is stored on: cuda:0\n",
      "Parameter 'base_model.model.model.layers.17.self_attn.q_proj.lora_A.default.weight' is stored on: cuda:0\n",
      "Parameter 'base_model.model.model.layers.17.self_attn.q_proj.lora_B.default.weight' is stored on: cuda:0\n",
      "Parameter 'base_model.model.model.layers.17.self_attn.k_proj.weight' is stored on: cuda:0\n",
      "Parameter 'base_model.model.model.layers.17.self_attn.v_proj.weight' is stored on: cuda:0\n",
      "Parameter 'base_model.model.model.layers.17.self_attn.o_proj.weight' is stored on: cuda:0\n",
      "Parameter 'base_model.model.model.layers.17.mlp.gate_proj.weight' is stored on: cuda:0\n",
      "Parameter 'base_model.model.model.layers.17.mlp.up_proj.weight' is stored on: cuda:0\n",
      "Parameter 'base_model.model.model.layers.17.mlp.down_proj.weight' is stored on: cuda:0\n",
      "Parameter 'base_model.model.model.layers.17.input_layernorm.weight' is stored on: cuda:0\n",
      "Parameter 'base_model.model.model.layers.17.post_attention_layernorm.weight' is stored on: cuda:0\n",
      "Parameter 'base_model.model.model.layers.18.self_attn.q_proj.base_layer.weight' is stored on: cuda:0\n",
      "Parameter 'base_model.model.model.layers.18.self_attn.q_proj.lora_A.default.weight' is stored on: cuda:0\n",
      "Parameter 'base_model.model.model.layers.18.self_attn.q_proj.lora_B.default.weight' is stored on: cuda:0\n",
      "Parameter 'base_model.model.model.layers.18.self_attn.k_proj.weight' is stored on: cuda:0\n",
      "Parameter 'base_model.model.model.layers.18.self_attn.v_proj.weight' is stored on: cuda:0\n",
      "Parameter 'base_model.model.model.layers.18.self_attn.o_proj.weight' is stored on: cuda:0\n",
      "Parameter 'base_model.model.model.layers.18.mlp.gate_proj.weight' is stored on: cuda:0\n",
      "Parameter 'base_model.model.model.layers.18.mlp.up_proj.weight' is stored on: cuda:0\n",
      "Parameter 'base_model.model.model.layers.18.mlp.down_proj.weight' is stored on: cuda:0\n",
      "Parameter 'base_model.model.model.layers.18.input_layernorm.weight' is stored on: cuda:0\n",
      "Parameter 'base_model.model.model.layers.18.post_attention_layernorm.weight' is stored on: cuda:0\n",
      "Parameter 'base_model.model.model.layers.19.self_attn.q_proj.base_layer.weight' is stored on: cuda:0\n",
      "Parameter 'base_model.model.model.layers.19.self_attn.q_proj.lora_A.default.weight' is stored on: cuda:0\n",
      "Parameter 'base_model.model.model.layers.19.self_attn.q_proj.lora_B.default.weight' is stored on: cuda:0\n",
      "Parameter 'base_model.model.model.layers.19.self_attn.k_proj.weight' is stored on: cuda:0\n",
      "Parameter 'base_model.model.model.layers.19.self_attn.v_proj.weight' is stored on: cuda:0\n",
      "Parameter 'base_model.model.model.layers.19.self_attn.o_proj.weight' is stored on: cuda:0\n",
      "Parameter 'base_model.model.model.layers.19.mlp.gate_proj.weight' is stored on: cuda:0\n",
      "Parameter 'base_model.model.model.layers.19.mlp.up_proj.weight' is stored on: cuda:0\n",
      "Parameter 'base_model.model.model.layers.19.mlp.down_proj.weight' is stored on: cuda:0\n",
      "Parameter 'base_model.model.model.layers.19.input_layernorm.weight' is stored on: cuda:0\n",
      "Parameter 'base_model.model.model.layers.19.post_attention_layernorm.weight' is stored on: cuda:0\n",
      "Parameter 'base_model.model.model.layers.20.self_attn.q_proj.base_layer.weight' is stored on: cuda:0\n",
      "Parameter 'base_model.model.model.layers.20.self_attn.q_proj.lora_A.default.weight' is stored on: cuda:0\n",
      "Parameter 'base_model.model.model.layers.20.self_attn.q_proj.lora_B.default.weight' is stored on: cuda:0\n",
      "Parameter 'base_model.model.model.layers.20.self_attn.k_proj.weight' is stored on: cuda:0\n",
      "Parameter 'base_model.model.model.layers.20.self_attn.v_proj.weight' is stored on: cuda:0\n",
      "Parameter 'base_model.model.model.layers.20.self_attn.o_proj.weight' is stored on: cuda:0\n",
      "Parameter 'base_model.model.model.layers.20.mlp.gate_proj.weight' is stored on: cuda:0\n",
      "Parameter 'base_model.model.model.layers.20.mlp.up_proj.weight' is stored on: cuda:0\n",
      "Parameter 'base_model.model.model.layers.20.mlp.down_proj.weight' is stored on: cuda:0\n",
      "Parameter 'base_model.model.model.layers.20.input_layernorm.weight' is stored on: cuda:0\n",
      "Parameter 'base_model.model.model.layers.20.post_attention_layernorm.weight' is stored on: cuda:0\n",
      "Parameter 'base_model.model.model.layers.21.self_attn.q_proj.base_layer.weight' is stored on: cuda:0\n",
      "Parameter 'base_model.model.model.layers.21.self_attn.q_proj.lora_A.default.weight' is stored on: cuda:0\n",
      "Parameter 'base_model.model.model.layers.21.self_attn.q_proj.lora_B.default.weight' is stored on: cuda:0\n",
      "Parameter 'base_model.model.model.layers.21.self_attn.k_proj.weight' is stored on: cuda:0\n",
      "Parameter 'base_model.model.model.layers.21.self_attn.v_proj.weight' is stored on: cuda:0\n",
      "Parameter 'base_model.model.model.layers.21.self_attn.o_proj.weight' is stored on: cuda:0\n",
      "Parameter 'base_model.model.model.layers.21.mlp.gate_proj.weight' is stored on: cuda:0\n",
      "Parameter 'base_model.model.model.layers.21.mlp.up_proj.weight' is stored on: cuda:0\n",
      "Parameter 'base_model.model.model.layers.21.mlp.down_proj.weight' is stored on: cuda:0\n",
      "Parameter 'base_model.model.model.layers.21.input_layernorm.weight' is stored on: cuda:0\n",
      "Parameter 'base_model.model.model.layers.21.post_attention_layernorm.weight' is stored on: cuda:0\n",
      "Parameter 'base_model.model.model.layers.22.self_attn.q_proj.base_layer.weight' is stored on: cuda:0\n",
      "Parameter 'base_model.model.model.layers.22.self_attn.q_proj.lora_A.default.weight' is stored on: cuda:0\n",
      "Parameter 'base_model.model.model.layers.22.self_attn.q_proj.lora_B.default.weight' is stored on: cuda:0\n",
      "Parameter 'base_model.model.model.layers.22.self_attn.k_proj.weight' is stored on: cuda:0\n",
      "Parameter 'base_model.model.model.layers.22.self_attn.v_proj.weight' is stored on: cuda:0\n",
      "Parameter 'base_model.model.model.layers.22.self_attn.o_proj.weight' is stored on: cuda:0\n",
      "Parameter 'base_model.model.model.layers.22.mlp.gate_proj.weight' is stored on: cuda:0\n",
      "Parameter 'base_model.model.model.layers.22.mlp.up_proj.weight' is stored on: cuda:0\n",
      "Parameter 'base_model.model.model.layers.22.mlp.down_proj.weight' is stored on: cuda:0\n",
      "Parameter 'base_model.model.model.layers.22.input_layernorm.weight' is stored on: cuda:0\n",
      "Parameter 'base_model.model.model.layers.22.post_attention_layernorm.weight' is stored on: cuda:0\n",
      "Parameter 'base_model.model.model.layers.23.self_attn.q_proj.base_layer.weight' is stored on: cuda:0\n",
      "Parameter 'base_model.model.model.layers.23.self_attn.q_proj.lora_A.default.weight' is stored on: cuda:0\n",
      "Parameter 'base_model.model.model.layers.23.self_attn.q_proj.lora_B.default.weight' is stored on: cuda:0\n",
      "Parameter 'base_model.model.model.layers.23.self_attn.k_proj.weight' is stored on: cuda:0\n",
      "Parameter 'base_model.model.model.layers.23.self_attn.v_proj.weight' is stored on: cuda:0\n",
      "Parameter 'base_model.model.model.layers.23.self_attn.o_proj.weight' is stored on: cuda:0\n",
      "Parameter 'base_model.model.model.layers.23.mlp.gate_proj.weight' is stored on: cuda:0\n",
      "Parameter 'base_model.model.model.layers.23.mlp.up_proj.weight' is stored on: cuda:0\n",
      "Parameter 'base_model.model.model.layers.23.mlp.down_proj.weight' is stored on: cuda:0\n",
      "Parameter 'base_model.model.model.layers.23.input_layernorm.weight' is stored on: cuda:0\n",
      "Parameter 'base_model.model.model.layers.23.post_attention_layernorm.weight' is stored on: cuda:0\n",
      "Parameter 'base_model.model.model.layers.24.self_attn.q_proj.base_layer.weight' is stored on: cuda:0\n",
      "Parameter 'base_model.model.model.layers.24.self_attn.q_proj.lora_A.default.weight' is stored on: cuda:0\n",
      "Parameter 'base_model.model.model.layers.24.self_attn.q_proj.lora_B.default.weight' is stored on: cuda:0\n",
      "Parameter 'base_model.model.model.layers.24.self_attn.k_proj.weight' is stored on: cuda:0\n",
      "Parameter 'base_model.model.model.layers.24.self_attn.v_proj.weight' is stored on: cuda:0\n",
      "Parameter 'base_model.model.model.layers.24.self_attn.o_proj.weight' is stored on: cuda:0\n",
      "Parameter 'base_model.model.model.layers.24.mlp.gate_proj.weight' is stored on: cuda:0\n",
      "Parameter 'base_model.model.model.layers.24.mlp.up_proj.weight' is stored on: cuda:0\n",
      "Parameter 'base_model.model.model.layers.24.mlp.down_proj.weight' is stored on: cuda:0\n",
      "Parameter 'base_model.model.model.layers.24.input_layernorm.weight' is stored on: cuda:0\n",
      "Parameter 'base_model.model.model.layers.24.post_attention_layernorm.weight' is stored on: cuda:0\n",
      "Parameter 'base_model.model.model.layers.25.self_attn.q_proj.base_layer.weight' is stored on: cuda:0\n",
      "Parameter 'base_model.model.model.layers.25.self_attn.q_proj.lora_A.default.weight' is stored on: cuda:0\n",
      "Parameter 'base_model.model.model.layers.25.self_attn.q_proj.lora_B.default.weight' is stored on: cuda:0\n",
      "Parameter 'base_model.model.model.layers.25.self_attn.k_proj.weight' is stored on: cuda:0\n",
      "Parameter 'base_model.model.model.layers.25.self_attn.v_proj.weight' is stored on: cuda:0\n",
      "Parameter 'base_model.model.model.layers.25.self_attn.o_proj.weight' is stored on: cuda:0\n",
      "Parameter 'base_model.model.model.layers.25.mlp.gate_proj.weight' is stored on: cuda:0\n",
      "Parameter 'base_model.model.model.layers.25.mlp.up_proj.weight' is stored on: cuda:0\n",
      "Parameter 'base_model.model.model.layers.25.mlp.down_proj.weight' is stored on: cuda:0\n",
      "Parameter 'base_model.model.model.layers.25.input_layernorm.weight' is stored on: cuda:0\n",
      "Parameter 'base_model.model.model.layers.25.post_attention_layernorm.weight' is stored on: cuda:0\n",
      "Parameter 'base_model.model.model.layers.26.self_attn.q_proj.base_layer.weight' is stored on: cuda:0\n",
      "Parameter 'base_model.model.model.layers.26.self_attn.q_proj.lora_A.default.weight' is stored on: cuda:0\n",
      "Parameter 'base_model.model.model.layers.26.self_attn.q_proj.lora_B.default.weight' is stored on: cuda:0\n",
      "Parameter 'base_model.model.model.layers.26.self_attn.k_proj.weight' is stored on: cuda:0\n",
      "Parameter 'base_model.model.model.layers.26.self_attn.v_proj.weight' is stored on: cuda:0\n",
      "Parameter 'base_model.model.model.layers.26.self_attn.o_proj.weight' is stored on: cuda:0\n",
      "Parameter 'base_model.model.model.layers.26.mlp.gate_proj.weight' is stored on: cuda:0\n",
      "Parameter 'base_model.model.model.layers.26.mlp.up_proj.weight' is stored on: cuda:0\n",
      "Parameter 'base_model.model.model.layers.26.mlp.down_proj.weight' is stored on: cuda:0\n",
      "Parameter 'base_model.model.model.layers.26.input_layernorm.weight' is stored on: cuda:0\n",
      "Parameter 'base_model.model.model.layers.26.post_attention_layernorm.weight' is stored on: cuda:0\n",
      "Parameter 'base_model.model.model.layers.27.self_attn.q_proj.base_layer.weight' is stored on: cuda:0\n",
      "Parameter 'base_model.model.model.layers.27.self_attn.q_proj.lora_A.default.weight' is stored on: cuda:0\n",
      "Parameter 'base_model.model.model.layers.27.self_attn.q_proj.lora_B.default.weight' is stored on: cuda:0\n",
      "Parameter 'base_model.model.model.layers.27.self_attn.k_proj.weight' is stored on: cuda:0\n",
      "Parameter 'base_model.model.model.layers.27.self_attn.v_proj.weight' is stored on: cuda:0\n",
      "Parameter 'base_model.model.model.layers.27.self_attn.o_proj.weight' is stored on: cuda:0\n",
      "Parameter 'base_model.model.model.layers.27.mlp.gate_proj.weight' is stored on: cuda:0\n",
      "Parameter 'base_model.model.model.layers.27.mlp.up_proj.weight' is stored on: cuda:0\n",
      "Parameter 'base_model.model.model.layers.27.mlp.down_proj.weight' is stored on: cuda:0\n",
      "Parameter 'base_model.model.model.layers.27.input_layernorm.weight' is stored on: cuda:0\n",
      "Parameter 'base_model.model.model.layers.27.post_attention_layernorm.weight' is stored on: cuda:0\n",
      "Parameter 'base_model.model.model.layers.28.self_attn.q_proj.base_layer.weight' is stored on: cuda:0\n",
      "Parameter 'base_model.model.model.layers.28.self_attn.q_proj.lora_A.default.weight' is stored on: cuda:0\n",
      "Parameter 'base_model.model.model.layers.28.self_attn.q_proj.lora_B.default.weight' is stored on: cuda:0\n",
      "Parameter 'base_model.model.model.layers.28.self_attn.k_proj.weight' is stored on: cuda:0\n",
      "Parameter 'base_model.model.model.layers.28.self_attn.v_proj.weight' is stored on: cuda:0\n",
      "Parameter 'base_model.model.model.layers.28.self_attn.o_proj.weight' is stored on: cuda:0\n",
      "Parameter 'base_model.model.model.layers.28.mlp.gate_proj.weight' is stored on: cuda:0\n",
      "Parameter 'base_model.model.model.layers.28.mlp.up_proj.weight' is stored on: cuda:0\n",
      "Parameter 'base_model.model.model.layers.28.mlp.down_proj.weight' is stored on: cuda:0\n",
      "Parameter 'base_model.model.model.layers.28.input_layernorm.weight' is stored on: cuda:0\n",
      "Parameter 'base_model.model.model.layers.28.post_attention_layernorm.weight' is stored on: cuda:0\n",
      "Parameter 'base_model.model.model.layers.29.self_attn.q_proj.base_layer.weight' is stored on: cuda:0\n",
      "Parameter 'base_model.model.model.layers.29.self_attn.q_proj.lora_A.default.weight' is stored on: cuda:0\n",
      "Parameter 'base_model.model.model.layers.29.self_attn.q_proj.lora_B.default.weight' is stored on: cuda:0\n",
      "Parameter 'base_model.model.model.layers.29.self_attn.k_proj.weight' is stored on: cuda:0\n",
      "Parameter 'base_model.model.model.layers.29.self_attn.v_proj.weight' is stored on: cuda:0\n",
      "Parameter 'base_model.model.model.layers.29.self_attn.o_proj.weight' is stored on: cuda:0\n",
      "Parameter 'base_model.model.model.layers.29.mlp.gate_proj.weight' is stored on: cuda:0\n",
      "Parameter 'base_model.model.model.layers.29.mlp.up_proj.weight' is stored on: cuda:0\n",
      "Parameter 'base_model.model.model.layers.29.mlp.down_proj.weight' is stored on: cuda:0\n",
      "Parameter 'base_model.model.model.layers.29.input_layernorm.weight' is stored on: cuda:0\n",
      "Parameter 'base_model.model.model.layers.29.post_attention_layernorm.weight' is stored on: cuda:0\n",
      "Parameter 'base_model.model.model.layers.30.self_attn.q_proj.base_layer.weight' is stored on: cuda:0\n",
      "Parameter 'base_model.model.model.layers.30.self_attn.q_proj.lora_A.default.weight' is stored on: cuda:0\n",
      "Parameter 'base_model.model.model.layers.30.self_attn.q_proj.lora_B.default.weight' is stored on: cuda:0\n",
      "Parameter 'base_model.model.model.layers.30.self_attn.k_proj.weight' is stored on: cuda:0\n",
      "Parameter 'base_model.model.model.layers.30.self_attn.v_proj.weight' is stored on: cuda:0\n",
      "Parameter 'base_model.model.model.layers.30.self_attn.o_proj.weight' is stored on: cuda:0\n",
      "Parameter 'base_model.model.model.layers.30.mlp.gate_proj.weight' is stored on: cuda:0\n",
      "Parameter 'base_model.model.model.layers.30.mlp.up_proj.weight' is stored on: cuda:0\n",
      "Parameter 'base_model.model.model.layers.30.mlp.down_proj.weight' is stored on: cuda:0\n",
      "Parameter 'base_model.model.model.layers.30.input_layernorm.weight' is stored on: cuda:0\n",
      "Parameter 'base_model.model.model.layers.30.post_attention_layernorm.weight' is stored on: cuda:0\n",
      "Parameter 'base_model.model.model.layers.31.self_attn.q_proj.base_layer.weight' is stored on: cuda:0\n",
      "Parameter 'base_model.model.model.layers.31.self_attn.q_proj.lora_A.default.weight' is stored on: cuda:0\n",
      "Parameter 'base_model.model.model.layers.31.self_attn.q_proj.lora_B.default.weight' is stored on: cuda:0\n",
      "Parameter 'base_model.model.model.layers.31.self_attn.k_proj.weight' is stored on: cuda:0\n",
      "Parameter 'base_model.model.model.layers.31.self_attn.v_proj.weight' is stored on: cuda:0\n",
      "Parameter 'base_model.model.model.layers.31.self_attn.o_proj.weight' is stored on: cuda:0\n",
      "Parameter 'base_model.model.model.layers.31.mlp.gate_proj.weight' is stored on: cuda:0\n",
      "Parameter 'base_model.model.model.layers.31.mlp.up_proj.weight' is stored on: cuda:0\n",
      "Parameter 'base_model.model.model.layers.31.mlp.down_proj.weight' is stored on: cuda:0\n",
      "Parameter 'base_model.model.model.layers.31.input_layernorm.weight' is stored on: cuda:0\n",
      "Parameter 'base_model.model.model.layers.31.post_attention_layernorm.weight' is stored on: cuda:0\n",
      "Parameter 'base_model.model.model.norm.weight' is stored on: cuda:0\n",
      "Parameter 'base_model.model.lm_head.weight' is stored on: cuda:0\n"
     ]
    }
   ],
   "source": [
    "for name, param in model.named_parameters():\n",
    "    print(f\"Parameter '{name}' is stored on: {param.device}\")\n"
   ]
  },
  {
   "cell_type": "code",
   "execution_count": 19,
   "metadata": {},
   "outputs": [
    {
     "name": "stderr",
     "output_type": "stream",
     "text": [
      "/home/mgurung/workspace/ai-env/lib/python3.10/site-packages/torch/_dynamo/eval_frame.py:632: UserWarning: torch.utils.checkpoint: the use_reentrant parameter should be passed explicitly. In version 2.5 we will raise an exception if use_reentrant is not passed. use_reentrant=False is recommended, but if you need to preserve the current default behavior, you can pass use_reentrant=True. Refer to docs for more details on the differences between the two variants.\n",
      "  return fn(*args, **kwargs)\n",
      "/home/mgurung/workspace/ai-env/lib/python3.10/site-packages/bitsandbytes/autograd/_functions.py:316: UserWarning: MatMul8bitLt: inputs will be cast from torch.float32 to float16 during quantization\n",
      "  warnings.warn(f\"MatMul8bitLt: inputs will be cast from {A.dtype} to float16 during quantization\")\n"
     ]
    },
    {
     "data": {
      "text/html": [
       "\n",
       "    <div>\n",
       "      \n",
       "      <progress value='12' max='12' style='width:300px; height:20px; vertical-align: middle;'></progress>\n",
       "      [12/12 01:53, Epoch 12/12]\n",
       "    </div>\n",
       "    <table border=\"1\" class=\"dataframe\">\n",
       "  <thead>\n",
       " <tr style=\"text-align: left;\">\n",
       "      <th>Epoch</th>\n",
       "      <th>Training Loss</th>\n",
       "      <th>Validation Loss</th>\n",
       "    </tr>\n",
       "  </thead>\n",
       "  <tbody>\n",
       "    <tr>\n",
       "      <td>1</td>\n",
       "      <td>3.696800</td>\n",
       "      <td>3.289178</td>\n",
       "    </tr>\n",
       "    <tr>\n",
       "      <td>2</td>\n",
       "      <td>3.705400</td>\n",
       "      <td>3.232896</td>\n",
       "    </tr>\n",
       "    <tr>\n",
       "      <td>3</td>\n",
       "      <td>3.632600</td>\n",
       "      <td>3.154819</td>\n",
       "    </tr>\n",
       "    <tr>\n",
       "      <td>4</td>\n",
       "      <td>3.496200</td>\n",
       "      <td>3.012617</td>\n",
       "    </tr>\n",
       "    <tr>\n",
       "      <td>5</td>\n",
       "      <td>3.343000</td>\n",
       "      <td>2.907411</td>\n",
       "    </tr>\n",
       "    <tr>\n",
       "      <td>6</td>\n",
       "      <td>3.177400</td>\n",
       "      <td>2.825839</td>\n",
       "    </tr>\n",
       "    <tr>\n",
       "      <td>7</td>\n",
       "      <td>3.043600</td>\n",
       "      <td>2.745687</td>\n",
       "    </tr>\n",
       "    <tr>\n",
       "      <td>8</td>\n",
       "      <td>2.930400</td>\n",
       "      <td>2.683360</td>\n",
       "    </tr>\n",
       "    <tr>\n",
       "      <td>9</td>\n",
       "      <td>2.843700</td>\n",
       "      <td>2.622124</td>\n",
       "    </tr>\n",
       "    <tr>\n",
       "      <td>10</td>\n",
       "      <td>2.765500</td>\n",
       "      <td>2.594224</td>\n",
       "    </tr>\n",
       "    <tr>\n",
       "      <td>11</td>\n",
       "      <td>2.719000</td>\n",
       "      <td>2.577080</td>\n",
       "    </tr>\n",
       "    <tr>\n",
       "      <td>12</td>\n",
       "      <td>2.688500</td>\n",
       "      <td>2.551223</td>\n",
       "    </tr>\n",
       "  </tbody>\n",
       "</table><p>"
      ],
      "text/plain": [
       "<IPython.core.display.HTML object>"
      ]
     },
     "metadata": {},
     "output_type": "display_data"
    },
    {
     "name": "stderr",
     "output_type": "stream",
     "text": [
      "/home/mgurung/workspace/ai-env/lib/python3.10/site-packages/torch/_dynamo/eval_frame.py:632: UserWarning: torch.utils.checkpoint: the use_reentrant parameter should be passed explicitly. In version 2.5 we will raise an exception if use_reentrant is not passed. use_reentrant=False is recommended, but if you need to preserve the current default behavior, you can pass use_reentrant=True. Refer to docs for more details on the differences between the two variants.\n",
      "  return fn(*args, **kwargs)\n",
      "/home/mgurung/workspace/ai-env/lib/python3.10/site-packages/bitsandbytes/autograd/_functions.py:316: UserWarning: MatMul8bitLt: inputs will be cast from torch.float32 to float16 during quantization\n",
      "  warnings.warn(f\"MatMul8bitLt: inputs will be cast from {A.dtype} to float16 during quantization\")\n",
      "/home/mgurung/workspace/ai-env/lib/python3.10/site-packages/torch/_dynamo/eval_frame.py:632: UserWarning: torch.utils.checkpoint: the use_reentrant parameter should be passed explicitly. In version 2.5 we will raise an exception if use_reentrant is not passed. use_reentrant=False is recommended, but if you need to preserve the current default behavior, you can pass use_reentrant=True. Refer to docs for more details on the differences between the two variants.\n",
      "  return fn(*args, **kwargs)\n",
      "/home/mgurung/workspace/ai-env/lib/python3.10/site-packages/bitsandbytes/autograd/_functions.py:316: UserWarning: MatMul8bitLt: inputs will be cast from torch.float32 to float16 during quantization\n",
      "  warnings.warn(f\"MatMul8bitLt: inputs will be cast from {A.dtype} to float16 during quantization\")\n",
      "/home/mgurung/workspace/ai-env/lib/python3.10/site-packages/torch/_dynamo/eval_frame.py:632: UserWarning: torch.utils.checkpoint: the use_reentrant parameter should be passed explicitly. In version 2.5 we will raise an exception if use_reentrant is not passed. use_reentrant=False is recommended, but if you need to preserve the current default behavior, you can pass use_reentrant=True. Refer to docs for more details on the differences between the two variants.\n",
      "  return fn(*args, **kwargs)\n",
      "/home/mgurung/workspace/ai-env/lib/python3.10/site-packages/bitsandbytes/autograd/_functions.py:316: UserWarning: MatMul8bitLt: inputs will be cast from torch.float32 to float16 during quantization\n",
      "  warnings.warn(f\"MatMul8bitLt: inputs will be cast from {A.dtype} to float16 during quantization\")\n",
      "/home/mgurung/workspace/ai-env/lib/python3.10/site-packages/torch/_dynamo/eval_frame.py:632: UserWarning: torch.utils.checkpoint: the use_reentrant parameter should be passed explicitly. In version 2.5 we will raise an exception if use_reentrant is not passed. use_reentrant=False is recommended, but if you need to preserve the current default behavior, you can pass use_reentrant=True. Refer to docs for more details on the differences between the two variants.\n",
      "  return fn(*args, **kwargs)\n",
      "/home/mgurung/workspace/ai-env/lib/python3.10/site-packages/bitsandbytes/autograd/_functions.py:316: UserWarning: MatMul8bitLt: inputs will be cast from torch.float32 to float16 during quantization\n",
      "  warnings.warn(f\"MatMul8bitLt: inputs will be cast from {A.dtype} to float16 during quantization\")\n",
      "/home/mgurung/workspace/ai-env/lib/python3.10/site-packages/torch/_dynamo/eval_frame.py:632: UserWarning: torch.utils.checkpoint: the use_reentrant parameter should be passed explicitly. In version 2.5 we will raise an exception if use_reentrant is not passed. use_reentrant=False is recommended, but if you need to preserve the current default behavior, you can pass use_reentrant=True. Refer to docs for more details on the differences between the two variants.\n",
      "  return fn(*args, **kwargs)\n",
      "/home/mgurung/workspace/ai-env/lib/python3.10/site-packages/bitsandbytes/autograd/_functions.py:316: UserWarning: MatMul8bitLt: inputs will be cast from torch.float32 to float16 during quantization\n",
      "  warnings.warn(f\"MatMul8bitLt: inputs will be cast from {A.dtype} to float16 during quantization\")\n",
      "/home/mgurung/workspace/ai-env/lib/python3.10/site-packages/torch/_dynamo/eval_frame.py:632: UserWarning: torch.utils.checkpoint: the use_reentrant parameter should be passed explicitly. In version 2.5 we will raise an exception if use_reentrant is not passed. use_reentrant=False is recommended, but if you need to preserve the current default behavior, you can pass use_reentrant=True. Refer to docs for more details on the differences between the two variants.\n",
      "  return fn(*args, **kwargs)\n",
      "/home/mgurung/workspace/ai-env/lib/python3.10/site-packages/bitsandbytes/autograd/_functions.py:316: UserWarning: MatMul8bitLt: inputs will be cast from torch.float32 to float16 during quantization\n",
      "  warnings.warn(f\"MatMul8bitLt: inputs will be cast from {A.dtype} to float16 during quantization\")\n",
      "/home/mgurung/workspace/ai-env/lib/python3.10/site-packages/torch/_dynamo/eval_frame.py:632: UserWarning: torch.utils.checkpoint: the use_reentrant parameter should be passed explicitly. In version 2.5 we will raise an exception if use_reentrant is not passed. use_reentrant=False is recommended, but if you need to preserve the current default behavior, you can pass use_reentrant=True. Refer to docs for more details on the differences between the two variants.\n",
      "  return fn(*args, **kwargs)\n",
      "/home/mgurung/workspace/ai-env/lib/python3.10/site-packages/bitsandbytes/autograd/_functions.py:316: UserWarning: MatMul8bitLt: inputs will be cast from torch.float32 to float16 during quantization\n",
      "  warnings.warn(f\"MatMul8bitLt: inputs will be cast from {A.dtype} to float16 during quantization\")\n",
      "/home/mgurung/workspace/ai-env/lib/python3.10/site-packages/torch/_dynamo/eval_frame.py:632: UserWarning: torch.utils.checkpoint: the use_reentrant parameter should be passed explicitly. In version 2.5 we will raise an exception if use_reentrant is not passed. use_reentrant=False is recommended, but if you need to preserve the current default behavior, you can pass use_reentrant=True. Refer to docs for more details on the differences between the two variants.\n",
      "  return fn(*args, **kwargs)\n",
      "/home/mgurung/workspace/ai-env/lib/python3.10/site-packages/bitsandbytes/autograd/_functions.py:316: UserWarning: MatMul8bitLt: inputs will be cast from torch.float32 to float16 during quantization\n",
      "  warnings.warn(f\"MatMul8bitLt: inputs will be cast from {A.dtype} to float16 during quantization\")\n",
      "/home/mgurung/workspace/ai-env/lib/python3.10/site-packages/torch/_dynamo/eval_frame.py:632: UserWarning: torch.utils.checkpoint: the use_reentrant parameter should be passed explicitly. In version 2.5 we will raise an exception if use_reentrant is not passed. use_reentrant=False is recommended, but if you need to preserve the current default behavior, you can pass use_reentrant=True. Refer to docs for more details on the differences between the two variants.\n",
      "  return fn(*args, **kwargs)\n",
      "/home/mgurung/workspace/ai-env/lib/python3.10/site-packages/bitsandbytes/autograd/_functions.py:316: UserWarning: MatMul8bitLt: inputs will be cast from torch.float32 to float16 during quantization\n",
      "  warnings.warn(f\"MatMul8bitLt: inputs will be cast from {A.dtype} to float16 during quantization\")\n",
      "/home/mgurung/workspace/ai-env/lib/python3.10/site-packages/torch/_dynamo/eval_frame.py:632: UserWarning: torch.utils.checkpoint: the use_reentrant parameter should be passed explicitly. In version 2.5 we will raise an exception if use_reentrant is not passed. use_reentrant=False is recommended, but if you need to preserve the current default behavior, you can pass use_reentrant=True. Refer to docs for more details on the differences between the two variants.\n",
      "  return fn(*args, **kwargs)\n",
      "/home/mgurung/workspace/ai-env/lib/python3.10/site-packages/bitsandbytes/autograd/_functions.py:316: UserWarning: MatMul8bitLt: inputs will be cast from torch.float32 to float16 during quantization\n",
      "  warnings.warn(f\"MatMul8bitLt: inputs will be cast from {A.dtype} to float16 during quantization\")\n",
      "/home/mgurung/workspace/ai-env/lib/python3.10/site-packages/torch/_dynamo/eval_frame.py:632: UserWarning: torch.utils.checkpoint: the use_reentrant parameter should be passed explicitly. In version 2.5 we will raise an exception if use_reentrant is not passed. use_reentrant=False is recommended, but if you need to preserve the current default behavior, you can pass use_reentrant=True. Refer to docs for more details on the differences between the two variants.\n",
      "  return fn(*args, **kwargs)\n",
      "/home/mgurung/workspace/ai-env/lib/python3.10/site-packages/bitsandbytes/autograd/_functions.py:316: UserWarning: MatMul8bitLt: inputs will be cast from torch.float32 to float16 during quantization\n",
      "  warnings.warn(f\"MatMul8bitLt: inputs will be cast from {A.dtype} to float16 during quantization\")\n",
      "/home/mgurung/workspace/ai-env/lib/python3.10/site-packages/bitsandbytes/autograd/_functions.py:316: UserWarning: MatMul8bitLt: inputs will be cast from torch.float32 to float16 during quantization\n",
      "  warnings.warn(f\"MatMul8bitLt: inputs will be cast from {A.dtype} to float16 during quantization\")\n"
     ]
    }
   ],
   "source": [
    "trainer = Trainer(\n",
    "    model=model,\n",
    "    train_dataset=train_dataset,\n",
    "    eval_dataset=test_dataset,\n",
    "    args=training_args,\n",
    "    data_collator = data_collator\n",
    ")\n",
    "\n",
    "model.config.use_cache = False # silence the warning\n",
    "trainer.train()\n",
    "model.config.use_cache = True # renable warning"
   ]
  },
  {
   "cell_type": "code",
   "execution_count": 20,
   "metadata": {},
   "outputs": [
    {
     "name": "stderr",
     "output_type": "stream",
     "text": [
      "adapter_model.safetensors: 100%|██████████| 8.40M/8.40M [00:00<00:00, 11.4MB/s]\n"
     ]
    },
    {
     "data": {
      "text/plain": [
       "CommitInfo(commit_url='https://huggingface.co/manojpi/pd-detect-agent/commit/56bc37ebdd6c8c876709c02336edf0f54d7a5276', commit_message='Upload model', commit_description='', oid='56bc37ebdd6c8c876709c02336edf0f54d7a5276', pr_url=None, repo_url=RepoUrl('https://huggingface.co/manojpi/pd-detect-agent', endpoint='https://huggingface.co', repo_type='model', repo_id='manojpi/pd-detect-agent'), pr_revision=None, pr_num=None)"
      ]
     },
     "execution_count": 20,
     "metadata": {},
     "output_type": "execute_result"
    }
   ],
   "source": [
    "model.push_to_hub(\"pd-detect-agent\")"
   ]
  },
  {
   "cell_type": "code",
   "execution_count": 21,
   "metadata": {},
   "outputs": [
    {
     "name": "stderr",
     "output_type": "stream",
     "text": [
      "No files have been modified since last commit. Skipping to prevent empty commit.\n"
     ]
    },
    {
     "data": {
      "text/plain": [
       "CommitInfo(commit_url='https://huggingface.co/manojpi/pd-detect-agent/commit/56bc37ebdd6c8c876709c02336edf0f54d7a5276', commit_message='Upload tokenizer', commit_description='', oid='56bc37ebdd6c8c876709c02336edf0f54d7a5276', pr_url=None, repo_url=RepoUrl('https://huggingface.co/manojpi/pd-detect-agent', endpoint='https://huggingface.co', repo_type='model', repo_id='manojpi/pd-detect-agent'), pr_revision=None, pr_num=None)"
      ]
     },
     "execution_count": 21,
     "metadata": {},
     "output_type": "execute_result"
    }
   ],
   "source": [
    "tokenizer.push_to_hub(\"pd-detect-agent\")"
   ]
  },
  {
   "cell_type": "code",
   "execution_count": 22,
   "metadata": {},
   "outputs": [
    {
     "data": {
      "text/plain": [
       "('model_state/tokenizer_config.json',\n",
       " 'model_state/special_tokens_map.json',\n",
       " 'model_state/tokenizer.json')"
      ]
     },
     "execution_count": 22,
     "metadata": {},
     "output_type": "execute_result"
    }
   ],
   "source": [
    "model.save_pretrained(\"model_state\")\n",
    "tokenizer.save_pretrained(\"model_state\")"
   ]
  },
  {
   "cell_type": "code",
   "execution_count": 27,
   "metadata": {},
   "outputs": [
    {
     "name": "stderr",
     "output_type": "stream",
     "text": [
      "The attention mask and the pad token id were not set. As a consequence, you may observe unexpected behavior. Please pass your input's `attention_mask` to obtain reliable results.\n",
      "Setting `pad_token_id` to `eos_token_id`:None for open-end generation.\n"
     ]
    },
    {
     "data": {
      "text/plain": [
       "\"<|begin_of_text|><|begin_of_text|><|start_header_id|>system<|end_header_id|>You are a medical expert specializing in Parkinson's disease. Please provide detailed information and answer questions solely related to Parkinson's disease. If a question pertains to a different topic, kindly respond with, 'I'm sorry, but I can only provide information about Parkinson's disease.Provide a brief and direct answer to the following question without restating it the question.<|eot_id|><|start_header_id|>user<|end_header_id|>What is Cancer?<|eot_id|><|start_header_id|>assistant<|end_header_id|>\\n\\nI'm sorry, but I can only provide information about Parkinson's disease.<|eot_id|>\""
      ]
     },
     "execution_count": 27,
     "metadata": {},
     "output_type": "execute_result"
    }
   ],
   "source": [
    "model.eval()\n",
    "\n",
    "prompt_template = lambda question: f\"\"\"<|begin_of_text|><|start_header_id|>system<|end_header_id|>You are a medical expert specializing in Parkinson's disease. Please provide detailed information and answer questions solely related to Parkinson's disease. If a question pertains to a different topic, kindly respond with, 'I'm sorry, but I can only provide information about Parkinson's disease.Provide a brief and direct answer to the following question without restating it the question.<|eot_id|><|start_header_id|>user<|end_header_id|>{question}<|eot_id|><|start_header_id|>assistant<|end_header_id|>\"\"\"\n",
    "\n",
    "prompt = prompt_template(\"What is Cancer?\")\n",
    "\n",
    "inputs = tokenizer(prompt, return_tensors=\"pt\")\n",
    "output = model.generate(input_ids=inputs[\"input_ids\"].to(\"cuda:0\"), max_new_tokens=200)\n",
    "tokenizer.batch_decode(output)[0]"
   ]
  },
  {
   "cell_type": "code",
   "execution_count": null,
   "metadata": {},
   "outputs": [],
   "source": []
  }
 ],
 "metadata": {
  "kernelspec": {
   "display_name": "ai-env",
   "language": "python",
   "name": "python3"
  },
  "language_info": {
   "codemirror_mode": {
    "name": "ipython",
    "version": 3
   },
   "file_extension": ".py",
   "mimetype": "text/x-python",
   "name": "python",
   "nbconvert_exporter": "python",
   "pygments_lexer": "ipython3",
   "version": "3.10.12"
  }
 },
 "nbformat": 4,
 "nbformat_minor": 2
}
