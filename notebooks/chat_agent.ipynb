{
 "cells": [
  {
   "cell_type": "code",
   "execution_count": 37,
   "metadata": {},
   "outputs": [],
   "source": [
    "from dotenv import load_dotenv\n",
    "from langchain.llms import HuggingFaceHub\n",
    "from langchain.prompts import PromptTemplate"
   ]
  },
  {
   "cell_type": "code",
   "execution_count": 38,
   "metadata": {},
   "outputs": [
    {
     "data": {
      "text/plain": [
       "True"
      ]
     },
     "execution_count": 38,
     "metadata": {},
     "output_type": "execute_result"
    }
   ],
   "source": [
    "load_dotenv()"
   ]
  },
  {
   "cell_type": "code",
   "execution_count": 39,
   "metadata": {},
   "outputs": [],
   "source": [
    "template = '''\n",
    "You are a medical expert specializing in Parkinson's disease. Please provide detailed information and answer questions solely related to Parkinson's disease. \n",
    "If a question pertains to a different topic, kindly respond with, 'I'm sorry, but I can only provide information about Parkinson's disease.\n",
    "\n",
    "Question: {question}\n",
    "\n",
    "Answer: '''"
   ]
  },
  {
   "cell_type": "code",
   "execution_count": 40,
   "metadata": {},
   "outputs": [
    {
     "data": {
      "text/plain": [
       "PromptTemplate(input_variables=['question'], template=\"\\nYou are a medical expert specializing in Parkinson's disease. Please provide detailed information and answer questions solely related to Parkinson's disease. \\nIf a question pertains to a different topic, kindly respond with, 'I'm sorry, but I can only provide information about Parkinson's disease.\\n\\nQuestion: {question}\\n\\nAnswer: \")"
      ]
     },
     "execution_count": 40,
     "metadata": {},
     "output_type": "execute_result"
    }
   ],
   "source": [
    "prompt = PromptTemplate(template=template, input_variables={'question'})\n",
    "prompt"
   ]
  },
  {
   "cell_type": "code",
   "execution_count": 41,
   "metadata": {},
   "outputs": [],
   "source": [
    "llm = HuggingFaceHub(\n",
    "    repo_id = 'meta-llama/Meta-Llama-3-8B-Instruct',\n",
    "    model_kwargs={'temperature':0.6, 'max_length': 100}\n",
    ")"
   ]
  },
  {
   "cell_type": "code",
   "execution_count": 42,
   "metadata": {},
   "outputs": [
    {
     "data": {
      "text/plain": [
       "HuggingFaceHub(client=<InferenceClient(model='meta-llama/Meta-Llama-3-8B-Instruct', timeout=None)>, repo_id='meta-llama/Meta-Llama-3-8B-Instruct', task='text-generation', model_kwargs={'temperature': 0.6, 'max_length': 100})"
      ]
     },
     "execution_count": 42,
     "metadata": {},
     "output_type": "execute_result"
    }
   ],
   "source": [
    "llm"
   ]
  },
  {
   "cell_type": "code",
   "execution_count": 43,
   "metadata": {},
   "outputs": [
    {
     "name": "stdout",
     "output_type": "stream",
     "text": [
      "What is hero? A hero is a person who is admired for their courage, strength, and achievements. They are often seen as role models and are celebrated for their bravery, generosity, and selflessness. In literature, a hero is often the main character of a story, who undergoes a journey of transformation and growth, overcoming challenges and obstacles along the way. In everyday life, heroes can be found in all walks of life, from first responders and medical professionals, to activists and volunteers, to ordinary people who make\n"
     ]
    }
   ],
   "source": [
    "question = \"What is hero?\"\n",
    "print(llm.invoke(question))"
   ]
  },
  {
   "cell_type": "code",
   "execution_count": null,
   "metadata": {},
   "outputs": [],
   "source": []
  }
 ],
 "metadata": {
  "kernelspec": {
   "display_name": "nlp-fall",
   "language": "python",
   "name": "python3"
  },
  "language_info": {
   "codemirror_mode": {
    "name": "ipython",
    "version": 3
   },
   "file_extension": ".py",
   "mimetype": "text/x-python",
   "name": "python",
   "nbconvert_exporter": "python",
   "pygments_lexer": "ipython3",
   "version": "3.12.2"
  }
 },
 "nbformat": 4,
 "nbformat_minor": 2
}
